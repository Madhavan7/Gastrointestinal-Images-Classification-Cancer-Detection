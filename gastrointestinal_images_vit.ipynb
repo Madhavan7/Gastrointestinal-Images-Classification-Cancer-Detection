{
  "cells": [
    {
      "cell_type": "code",
      "execution_count": null,
      "metadata": {},
      "outputs": [
        {
          "name": "stdout",
          "output_type": "stream",
          "text": [
            "Requirement already satisfied: sklearn in /Users/madhavgopakumar/.pyenv/versions/3.10.7/envs/cv-project-env/lib/python3.10/site-packages (0.0.post9)\n",
            "Note: you may need to restart the kernel to use updated packages.\n",
            "Requirement already satisfied: pillow in /Users/madhavgopakumar/.pyenv/versions/3.10.7/envs/cv-project-env/lib/python3.10/site-packages (10.0.1)\n",
            "Note: you may need to restart the kernel to use updated packages.\n",
            "Requirement already satisfied: torchvision in /Users/madhavgopakumar/.pyenv/versions/3.10.7/envs/cv-project-env/lib/python3.10/site-packages (0.15.2)\n",
            "Requirement already satisfied: numpy in /Users/madhavgopakumar/.pyenv/versions/3.10.7/envs/cv-project-env/lib/python3.10/site-packages (from torchvision) (1.26.0)\n",
            "Requirement already satisfied: requests in /Users/madhavgopakumar/.pyenv/versions/3.10.7/envs/cv-project-env/lib/python3.10/site-packages (from torchvision) (2.31.0)\n",
            "Requirement already satisfied: torch==2.0.1 in /Users/madhavgopakumar/.pyenv/versions/3.10.7/envs/cv-project-env/lib/python3.10/site-packages (from torchvision) (2.0.1)\n",
            "Requirement already satisfied: pillow!=8.3.*,>=5.3.0 in /Users/madhavgopakumar/.pyenv/versions/3.10.7/envs/cv-project-env/lib/python3.10/site-packages (from torchvision) (10.0.1)\n",
            "Requirement already satisfied: filelock in /Users/madhavgopakumar/.pyenv/versions/3.10.7/envs/cv-project-env/lib/python3.10/site-packages (from torch==2.0.1->torchvision) (3.12.4)\n",
            "Requirement already satisfied: typing-extensions in /Users/madhavgopakumar/.pyenv/versions/3.10.7/envs/cv-project-env/lib/python3.10/site-packages (from torch==2.0.1->torchvision) (4.8.0)\n",
            "Requirement already satisfied: sympy in /Users/madhavgopakumar/.pyenv/versions/3.10.7/envs/cv-project-env/lib/python3.10/site-packages (from torch==2.0.1->torchvision) (1.12)\n",
            "Requirement already satisfied: networkx in /Users/madhavgopakumar/.pyenv/versions/3.10.7/envs/cv-project-env/lib/python3.10/site-packages (from torch==2.0.1->torchvision) (3.1)\n",
            "Requirement already satisfied: jinja2 in /Users/madhavgopakumar/.pyenv/versions/3.10.7/envs/cv-project-env/lib/python3.10/site-packages (from torch==2.0.1->torchvision) (3.1.2)\n",
            "Requirement already satisfied: charset-normalizer<4,>=2 in /Users/madhavgopakumar/.pyenv/versions/3.10.7/envs/cv-project-env/lib/python3.10/site-packages (from requests->torchvision) (3.2.0)\n",
            "Requirement already satisfied: idna<4,>=2.5 in /Users/madhavgopakumar/.pyenv/versions/3.10.7/envs/cv-project-env/lib/python3.10/site-packages (from requests->torchvision) (3.4)\n",
            "Requirement already satisfied: urllib3<3,>=1.21.1 in /Users/madhavgopakumar/.pyenv/versions/3.10.7/envs/cv-project-env/lib/python3.10/site-packages (from requests->torchvision) (2.0.5)\n",
            "Requirement already satisfied: certifi>=2017.4.17 in /Users/madhavgopakumar/.pyenv/versions/3.10.7/envs/cv-project-env/lib/python3.10/site-packages (from requests->torchvision) (2023.7.22)\n",
            "Requirement already satisfied: MarkupSafe>=2.0 in /Users/madhavgopakumar/.pyenv/versions/3.10.7/envs/cv-project-env/lib/python3.10/site-packages (from jinja2->torch==2.0.1->torchvision) (2.1.3)\n",
            "Requirement already satisfied: mpmath>=0.19 in /Users/madhavgopakumar/.pyenv/versions/3.10.7/envs/cv-project-env/lib/python3.10/site-packages (from sympy->torch==2.0.1->torchvision) (1.3.0)\n",
            "Note: you may need to restart the kernel to use updated packages.\n",
            "Requirement already satisfied: imbalanced-learn in /Users/madhavgopakumar/.pyenv/versions/3.10.7/envs/cv-project-env/lib/python3.10/site-packages (0.11.0)\n",
            "Requirement already satisfied: numpy>=1.17.3 in /Users/madhavgopakumar/.pyenv/versions/3.10.7/envs/cv-project-env/lib/python3.10/site-packages (from imbalanced-learn) (1.26.0)\n",
            "Requirement already satisfied: scipy>=1.5.0 in /Users/madhavgopakumar/.pyenv/versions/3.10.7/envs/cv-project-env/lib/python3.10/site-packages (from imbalanced-learn) (1.11.2)\n",
            "Requirement already satisfied: scikit-learn>=1.0.2 in /Users/madhavgopakumar/.pyenv/versions/3.10.7/envs/cv-project-env/lib/python3.10/site-packages (from imbalanced-learn) (1.3.1)\n",
            "Requirement already satisfied: joblib>=1.1.1 in /Users/madhavgopakumar/.pyenv/versions/3.10.7/envs/cv-project-env/lib/python3.10/site-packages (from imbalanced-learn) (1.3.2)\n",
            "Requirement already satisfied: threadpoolctl>=2.0.0 in /Users/madhavgopakumar/.pyenv/versions/3.10.7/envs/cv-project-env/lib/python3.10/site-packages (from imbalanced-learn) (3.2.0)\n",
            "Note: you may need to restart the kernel to use updated packages.\n"
          ]
        }
      ],
      "source": [
        "%pip install sklearn\n",
        "%pip install pillow\n",
        "%pip install torchvision\n",
        "%pip install imbalanced-learn"
      ]
    },
    {
      "cell_type": "markdown",
      "metadata": {
        "id": "k268imvu1VmC"
      },
      "source": [
        "**Datasets**"
      ]
    },
    {
      "cell_type": "code",
      "execution_count": 2,
      "metadata": {
        "id": "5w122GM21Y7D"
      },
      "outputs": [
        {
          "name": "stdout",
          "output_type": "stream",
          "text": [
            "1236 1740\n",
            "309 435\n"
          ]
        },
        {
          "name": "stderr",
          "output_type": "stream",
          "text": [
            "/var/folders/hl/86tbqlkd413g631jyj246ld00000gn/T/ipykernel_74507/2894673893.py:21: UserWarning: Boolean Series key will be reindexed to match DataFrame index.\n",
            "  print(len(train_annotations[HP] == True), len(train_annotations))\n",
            "/var/folders/hl/86tbqlkd413g631jyj246ld00000gn/T/ipykernel_74507/2894673893.py:22: UserWarning: Boolean Series key will be reindexed to match DataFrame index.\n",
            "  print(len(val_annotations[HP] == True), len(val_annotations))\n"
          ]
        }
      ],
      "source": [
        "import PIL as Image\n",
        "import torch\n",
        "import pandas as pd\n",
        "import os\n",
        "from torch.utils.data import Dataset, DataLoader\n",
        "from skimage import io\n",
        "from sklearn.model_selection import train_test_split\n",
        "\n",
        "device = torch.device('cuda') if torch.cuda.is_available() else torch.device('cpu')\n",
        "#Preparing the dataset\n",
        "annotations = pd.read_csv(\"Datasets/annotations.csv\")\n",
        "HP = annotations.iloc[:,1] == \"HP\"\n",
        "SSA = annotations.iloc[:,1] == \"SSA\"\n",
        "annotations[\"HP\"] = HP\n",
        "annotations[\"SSA\"] = SSA\n",
        "t_annotations = annotations[annotations[\"Partition\"]==\"train\"]\n",
        "\n",
        "train_annotations, val_annotations = train_test_split(t_annotations, train_size=0.8, stratify=t_annotations[\"HP\"])\n",
        "\n",
        "# Just to confirm if the distribution is the same \n",
        "print(len(train_annotations[HP] == True), len(train_annotations))\n",
        "print(len(val_annotations[HP] == True), len(val_annotations))\n",
        "test_annotations = annotations[annotations[\"Partition\"]==\"test\"]\n",
        "root_dir = \"Datasets/images/\"\n",
        "\n",
        "class Plyops(Dataset):\n",
        "  def __init__(self, annotations, root_dir, transform = None) -> None:\n",
        "    self.annotations = annotations\n",
        "    self.root_dir = root_dir\n",
        "    self.transform = transform\n",
        "\n",
        "  def __len__(self):\n",
        "    return len(self.annotations)\n",
        "  \n",
        "  def __getitem__(self, index):\n",
        "    img_path = os.path.join(self.root_dir, self.annotations.iloc[index, 0])\n",
        "    image = io.imread(img_path)\n",
        "\n",
        "    if self.transform:\n",
        "      image = self.transform(image)\n",
        "    \n",
        "    y_label = torch.tensor([int(self.annotations.iloc[index, 4]),int(self.annotations.iloc[index, 5])])\n",
        "    return (image, y_label)\n",
        "  \n",
        "\n",
        "train_dataset = Plyops(train_annotations, root_dir)\n",
        "val_dataset = Plyops(val_annotations, root_dir)\n",
        "test_dataset = Plyops(test_annotations, root_dir)\n",
        "\n",
        "batch_size = 256\n",
        "\n",
        "train_dataloaders = {'train': DataLoader(train_dataset, batch_size=batch_size), 'val': DataLoader(val_dataset, batch_size=batch_size)}\n",
        "test_dataloader = DataLoader(test_dataset, batch_size=batch_size)\n",
        "\n",
        "dataset_sizes = {'train': len(train_dataloaders['train']), 'val': len(train_dataloaders['val']), 'test': len(test_dataloader)}"
      ]
    },
    {
      "cell_type": "markdown",
      "metadata": {
        "id": "Bz05uoxvzp5I"
      },
      "source": [
        "**Image** **Patching**"
      ]
    },
    {
      "cell_type": "code",
      "execution_count": 3,
      "metadata": {
        "id": "xKoPSFGA6VKm"
      },
      "outputs": [],
      "source": [
        "import torch.nn as nn\n",
        "import torch.nn.functional as F\n",
        "from  einops.einops import rearrange\n",
        "\n",
        "def transform_image(image, patch_size):\n",
        "  \"\"\"If H*W*C is the dimensions of the image, we should return N vectors of size\n",
        "  (P**2)*C, where P is the patch size and N = H*W/P i.e the number of patches\n",
        "  We use einops to rearrange\n",
        "\n",
        "  image: A four dimensional tensor\n",
        "\n",
        "  patch_size: int\n",
        "  \"\"\"\n",
        "  assert(image.shape[1]*image.shape[2]%patch_size == 0)\n",
        "  image = rearrange(image, 'b h w c -> b c h w')\n",
        "  return rearrange(image, 'b c (h p1) (w p2) -> b (h w) (p1 p2 c)', p1 = patch_size, p2 = patch_size)\n",
        "\n",
        "#Testing\n",
        "\n",
        "image = torch.rand(size=[1,9,9,1])\n",
        "image = transform_image(image, 3)\n",
        "assert(image.shape == torch.Size([1,9,9]))\n",
        "\n",
        "image = torch.rand(size=[1,9,9, 3])\n",
        "image = transform_image(image, 3)\n",
        "assert(image.shape == torch.Size([1, 9, 27]))"
      ]
    },
    {
      "cell_type": "markdown",
      "metadata": {
        "id": "UyYu2J6vbVQ5"
      },
      "source": [
        "**Helper Models**"
      ]
    },
    {
      "cell_type": "code",
      "execution_count": 4,
      "metadata": {
        "colab": {
          "base_uri": "https://localhost:8080/"
        },
        "id": "_JbhPlLmJgL9",
        "outputId": "e3121507-feda-4061-b63f-d21cf6239fb1"
      },
      "outputs": [
        {
          "data": {
            "text/plain": [
              "torch.Size([1, 5, 5])"
            ]
          },
          "execution_count": 4,
          "metadata": {},
          "output_type": "execute_result"
        }
      ],
      "source": [
        "class MLP(nn.Module):\n",
        "  def __init__(self, input_dim, hidden_dim, dropout = 0.):\n",
        "    super(MLP, self).__init__()\n",
        "    self.l1 = nn.Linear(input_dim, hidden_dim)\n",
        "    self.act1 = nn.GELU()\n",
        "    self.drop1 = nn.Dropout(dropout)\n",
        "    self.l2 = nn.Linear(hidden_dim, input_dim)\n",
        "    self.drop2 = nn.Dropout(dropout)\n",
        "\n",
        "  def forward(self, x):\n",
        "    x = self.drop1(self.act1(self.l1(x)))\n",
        "    x = self.drop2(self.l2(x))\n",
        "    return x\n",
        "\n",
        "#simple test to see if dimensions match up\n",
        "mlp = MLP(5,6, 0.1)\n",
        "mlp(torch.ones(size=(1,5,5))).shape\n"
      ]
    },
    {
      "cell_type": "markdown",
      "metadata": {
        "id": "uFmEpGs2fDz7"
      },
      "source": [
        "**Models**"
      ]
    },
    {
      "cell_type": "code",
      "execution_count": 5,
      "metadata": {
        "id": "_w5Jm_ORfIX4"
      },
      "outputs": [],
      "source": [
        "from einops import repeat\n",
        "\n",
        "class PatchEmbedding(nn.Module):\n",
        "  \"\"\"This is the first part of the vision transformer\"\"\"\n",
        "  def __init__(self, num_channels, image_size, patch_size, embedding_dim):\n",
        "    super(PatchEmbedding, self).__init__()\n",
        "    #size parameters\n",
        "    self.patch_size = patch_size\n",
        "    self.embedding_dim = embedding_dim\n",
        "    self.image_size = image_size\n",
        "    num_patches = (image_size//patch_size)**2\n",
        "    #Need num channels for the below\n",
        "    self.proj = nn.Linear((patch_size**2)*num_channels, embedding_dim)\n",
        "    self.cls_token = nn.Parameter(torch.rand(1,1,embedding_dim))\n",
        "    #num patches is wrong\n",
        "    self.pos_embedding = nn.Parameter(torch.rand(1, num_patches + 1, embedding_dim))\n",
        "\n",
        "  def forward(self, img):\n",
        "    #transforms the image\n",
        "    img = transform_image(img, self.patch_size)\n",
        "    img = self.proj(img)\n",
        "    cls_tokens = repeat(self.cls_token, '1 1 d -> b 1 d', b = img.shape[0])\n",
        "    img = torch.cat([cls_tokens, img], dim = 1)\n",
        "    img += self.pos_embedding\n",
        "    return img"
      ]
    },
    {
      "cell_type": "code",
      "execution_count": 6,
      "metadata": {
        "colab": {
          "base_uri": "https://localhost:8080/"
        },
        "id": "uq6vS600Jl25",
        "outputId": "d297da3a-c10a-4f68-da03-98379dded455"
      },
      "outputs": [
        {
          "data": {
            "text/plain": [
              "torch.Size([1, 7, 3])"
            ]
          },
          "execution_count": 6,
          "metadata": {},
          "output_type": "execute_result"
        }
      ],
      "source": [
        "class TransformerEncoder(nn.Module):\n",
        "  def __init__(self, embedding_dim, n_heads, hidden_dim, dropout=0):\n",
        "    super(TransformerEncoder, self).__init__()\n",
        "    #Required parameters\n",
        "    self.embedding_dim = embedding_dim\n",
        "    self.n_heads = n_heads\n",
        "\n",
        "    self.n1 = nn.LayerNorm(embedding_dim)\n",
        "    self.attention = nn.MultiheadAttention(embed_dim=embedding_dim, num_heads=n_heads, dropout=dropout)\n",
        "    self.n2 = nn.LayerNorm(embedding_dim)\n",
        "    self.mlp = MLP(embedding_dim, hidden_dim)\n",
        "\n",
        "  def forward(self, x):\n",
        "    z = self.n1(x)\n",
        "    y = self.attention(z,z,z)[0] + x\n",
        "    x = self.mlp(self.n2(y)) + y\n",
        "    return x\n",
        "\n",
        "#simple test to see if dimensions add up\n",
        "te = TransformerEncoder(3,3,3)\n",
        "te(torch.ones(size = (1,7,3))).shape"
      ]
    },
    {
      "cell_type": "code",
      "execution_count": 7,
      "metadata": {
        "colab": {
          "base_uri": "https://localhost:8080/"
        },
        "id": "aUdCupzDgoKK",
        "outputId": "cb1dec8c-9cde-4bba-f6f8-1802d71a4fe9"
      },
      "outputs": [
        {
          "data": {
            "text/plain": [
              "torch.Size([3, 2])"
            ]
          },
          "execution_count": 7,
          "metadata": {},
          "output_type": "execute_result"
        }
      ],
      "source": [
        "class ViT(nn.Module):\n",
        "  def __init__(self, num_channels, image_size, patch_size, embedding_dim, n_heads, hidden_dim,n_layers, num_classes, dropout=0):\n",
        "    super(ViT, self).__init__()\n",
        "    self.patch_embedding = PatchEmbedding(num_channels, image_size, patch_size, embedding_dim)\n",
        "    self.transformer_encoder = TransformerEncoder(embedding_dim, n_heads, hidden_dim, dropout)\n",
        "    self.layer_norm = nn.LayerNorm(embedding_dim)\n",
        "    self.final_layer = nn.Linear(embedding_dim, num_classes)\n",
        "    self.n_layers = n_layers\n",
        "    self.softmax = nn.Softmax(dim = 1)\n",
        "\n",
        "  def forward(self, x):\n",
        "    x = self.patch_embedding(x)\n",
        "    for _ in range(self.n_layers):\n",
        "      x = self.transformer_encoder(x)\n",
        "    y = self.layer_norm(x[:,0,:])\n",
        "    y = self.final_layer(y)\n",
        "    y = self.softmax(y)\n",
        "    return y\n",
        "\n",
        "#short test to see if dimensions checks out\n",
        "image = torch.ones(size = (3, 9,9, 1))\n",
        "vit = ViT(1, 9, 3, 4, 4, 7, 7, 2)\n",
        "vit(image).shape"
      ]
    },
    {
      "cell_type": "markdown",
      "metadata": {
        "id": "GUfVBxV61cBk"
      },
      "source": [
        "**Training and Testing**"
      ]
    },
    {
      "cell_type": "code",
      "execution_count": null,
      "metadata": {},
      "outputs": [],
      "source": [
        "%matplotlib inline\n",
        "import matplotlib.pyplot as plt\n",
        "import numpy as np\n",
        "def visualize(*args, labels):\n",
        "  n = len(args[0])\n",
        "  x = np.arange(0,n, 1)\n",
        "  assert len(args) == len(labels), \"Each list must have a corresponding label\"\n",
        "  #Defining the functions used for plotting\n",
        "  for i in range(len(args)):\n",
        "    assert len(args[i]) == n, \"incorrect number of values\"\n",
        "    plt.plot(x, args[i], label = labels[i])\n",
        "  plt.xlim(0,n-1)\n",
        "  plt.xticks(range(0,n-1))\n",
        "  plt.ylim(0,1)\n",
        "  plt.title(\"Model Evaluation\")\n",
        "  plt.xlabel(\"Epochs\")\n",
        "  plt.ylabel(\"Metrics\")\n",
        "  plt.legend()\n",
        "  plt.show()\n",
        "\n",
        "def visualize_training(*args):\n",
        "  labels = [\"Precision\", \"Recall\", \"F1\", \"Specificity\"]\n",
        "  visualize(*args, labels= labels)\n",
        "\n",
        "def visualize_testing(c_matrix):\n",
        "  pass"
      ]
    },
    {
      "cell_type": "code",
      "execution_count": null,
      "metadata": {},
      "outputs": [],
      "source": [
        "from numpy import mean\n",
        "from sklearn.metrics import confusion_matrix, classification_report, precision_score, recall_score, f1_score\n",
        "\n",
        "\n",
        "def training_loop(dataloader, model, epochs, loss_function, optimizer, scheduler = None):\n",
        "  epoch_losses = []\n",
        "  epoch_precisions = []\n",
        "  epoch_recalls = []\n",
        "  epoch_f1_scores = []\n",
        "  epoch_specificities = []\n",
        "  for epoch in range(epochs):\n",
        "    print(\"Epoch: \" + str(epoch))\n",
        "    batch_tn = []\n",
        "    batch_fp = []\n",
        "    batch_tp = []\n",
        "    batch_fn = []\n",
        "    batch_losses = []\n",
        "    for x in ['train', 'val']:\n",
        "      if x == 'train':\n",
        "        model.train()\n",
        "      else:\n",
        "        model.eval()\n",
        "      for (data, label) in dataloader[x]:\n",
        "        data = data.to(torch.float32)\n",
        "        label = label.to(torch.float32)\n",
        "        data, label = data.to(device), label.to(device)\n",
        "        output = model(data)\n",
        "        output.to(device)\n",
        "        loss = loss_function(output, label)\n",
        "        optimizer.zero_grad()\n",
        "        with torch.no_grad():\n",
        "          predictions = torch.argmax(output.to('cpu'), 1)\n",
        "          label = torch.argmax(label.to('cpu'), 1)\n",
        "          tn, fp, fn, tp = confusion_matrix(label, predictions, labels=[0,1]).ravel()\n",
        "\n",
        "        if x == 'train':\n",
        "          loss.backward()\n",
        "          optimizer.step()\n",
        "        else:\n",
        "          batch_losses.append(loss.item())\n",
        "          batch_tn.append(tn)\n",
        "          batch_fp.append(fp)\n",
        "          batch_tp.append(tp)\n",
        "          batch_fn.append(fn)\n",
        "\n",
        "    epoch_loss = mean(batch_losses)\n",
        "    epoch_losses.append(epoch_loss)\n",
        "    epoch_tn, epoch_fp, epoch_tp, epoch_fn = sum(batch_tn), sum(batch_fp), sum(batch_tp), sum(batch_fn)\n",
        "    \n",
        "    if scheduler:\n",
        "        scheduler.step(epoch_loss)\n",
        "\n",
        "    epoch_precision = epoch_tp/(epoch_tp + epoch_fp) if epoch_tp + epoch_fp != 0 else 0\n",
        "    epoch_precisions.append(epoch_precision)\n",
        "    epoch_recall = epoch_tp/(epoch_tp + epoch_fn) if epoch_tp + epoch_fp != 0 else 1\n",
        "    epoch_recalls.append(epoch_recall)\n",
        "    epoch_f1 = (2*epoch_recall*epoch_precision)/(epoch_recall + epoch_precision) if epoch_recall + epoch_precision != 0 else 0\n",
        "    epoch_f1_scores.append(epoch_f1)\n",
        "    epoch_specificity = epoch_tn/(epoch_tn + epoch_fp) if epoch_tn + epoch_fp != 0 else 1\n",
        "    epoch_specificities.append(epoch_specificity)\n",
        "          \n",
        "    print(\"Precision: \" + str(epoch_precision) \n",
        "          + \" F1: \" + str(epoch_f1))\n",
        "    print(\"Recall: \" + str(epoch_recall) + \" Specificity: \" + str(epoch_specificity))\n",
        "    print(\"Loss: \" + str(epoch_loss))\n",
        "\n",
        "  return [epoch_precisions, epoch_recalls, epoch_f1_scores, epoch_specificities]\n"
      ]
    },
    {
      "cell_type": "code",
      "execution_count": 9,
      "metadata": {},
      "outputs": [
        {
          "name": "stdout",
          "output_type": "stream",
          "text": [
            "Epoch: 0\n",
            "Epoch 0 average precision: 0.0 average f1: 0.0\n",
            "average recall: 0.0 average loss: tensor(0.6206, grad_fn=<DivBackward0>)\n",
            "Epoch: 1\n",
            "Epoch 1 average precision: 0.0 average f1: 0.0\n",
            "average recall: 0.0 average loss: tensor(0.6098, grad_fn=<DivBackward0>)\n",
            "Epoch: 2\n",
            "Epoch 2 average precision: 0.0 average f1: 0.0\n",
            "average recall: 0.0 average loss: tensor(0.6064, grad_fn=<DivBackward0>)\n",
            "Epoch: 3\n",
            "Epoch 3 average precision: 0.0 average f1: 0.0\n",
            "average recall: 0.0 average loss: tensor(0.6050, grad_fn=<DivBackward0>)\n",
            "Epoch: 4\n",
            "Epoch 4 average precision: 0.0 average f1: 0.0\n",
            "average recall: 0.0 average loss: tensor(0.6051, grad_fn=<DivBackward0>)\n",
            "Epoch: 5\n"
          ]
        },
        {
          "ename": "KeyboardInterrupt",
          "evalue": "",
          "output_type": "error",
          "traceback": [
            "\u001b[0;31m---------------------------------------------------------------------------\u001b[0m",
            "\u001b[0;31mKeyboardInterrupt\u001b[0m                         Traceback (most recent call last)",
            "Cell \u001b[0;32mIn[9], line 24\u001b[0m\n\u001b[1;32m     21\u001b[0m \u001b[39m#Small number of epochs since we dont have the computational resources\u001b[39;00m\n\u001b[1;32m     22\u001b[0m epochs \u001b[39m=\u001b[39m \u001b[39m500\u001b[39m\n\u001b[0;32m---> 24\u001b[0m training_loop(train_dataloaders, model, epochs, loss_function, optimizer)\n",
            "Cell \u001b[0;32mIn[8], line 24\u001b[0m, in \u001b[0;36mtraining_loop\u001b[0;34m(dataloader, model, epochs, loss_function, optimizer)\u001b[0m\n\u001b[1;32m     22\u001b[0m label \u001b[39m=\u001b[39m label\u001b[39m.\u001b[39mto(torch\u001b[39m.\u001b[39mfloat32)\n\u001b[1;32m     23\u001b[0m data, label \u001b[39m=\u001b[39m data\u001b[39m.\u001b[39mto(device), label\u001b[39m.\u001b[39mto(device)\n\u001b[0;32m---> 24\u001b[0m output \u001b[39m=\u001b[39m model(data)\n\u001b[1;32m     25\u001b[0m output\u001b[39m.\u001b[39mto(device)\n\u001b[1;32m     26\u001b[0m loss \u001b[39m=\u001b[39m loss_function(output, label)\n",
            "File \u001b[0;32m~/.pyenv/versions/3.10.7/envs/cv-project-env/lib/python3.10/site-packages/torch/nn/modules/module.py:1501\u001b[0m, in \u001b[0;36mModule._call_impl\u001b[0;34m(self, *args, **kwargs)\u001b[0m\n\u001b[1;32m   1496\u001b[0m \u001b[39m# If we don't have any hooks, we want to skip the rest of the logic in\u001b[39;00m\n\u001b[1;32m   1497\u001b[0m \u001b[39m# this function, and just call forward.\u001b[39;00m\n\u001b[1;32m   1498\u001b[0m \u001b[39mif\u001b[39;00m \u001b[39mnot\u001b[39;00m (\u001b[39mself\u001b[39m\u001b[39m.\u001b[39m_backward_hooks \u001b[39mor\u001b[39;00m \u001b[39mself\u001b[39m\u001b[39m.\u001b[39m_backward_pre_hooks \u001b[39mor\u001b[39;00m \u001b[39mself\u001b[39m\u001b[39m.\u001b[39m_forward_hooks \u001b[39mor\u001b[39;00m \u001b[39mself\u001b[39m\u001b[39m.\u001b[39m_forward_pre_hooks\n\u001b[1;32m   1499\u001b[0m         \u001b[39mor\u001b[39;00m _global_backward_pre_hooks \u001b[39mor\u001b[39;00m _global_backward_hooks\n\u001b[1;32m   1500\u001b[0m         \u001b[39mor\u001b[39;00m _global_forward_hooks \u001b[39mor\u001b[39;00m _global_forward_pre_hooks):\n\u001b[0;32m-> 1501\u001b[0m     \u001b[39mreturn\u001b[39;00m forward_call(\u001b[39m*\u001b[39;49margs, \u001b[39m*\u001b[39;49m\u001b[39m*\u001b[39;49mkwargs)\n\u001b[1;32m   1502\u001b[0m \u001b[39m# Do not call functions when jit is used\u001b[39;00m\n\u001b[1;32m   1503\u001b[0m full_backward_hooks, non_full_backward_hooks \u001b[39m=\u001b[39m [], []\n",
            "Cell \u001b[0;32mIn[7], line 14\u001b[0m, in \u001b[0;36mViT.forward\u001b[0;34m(self, x)\u001b[0m\n\u001b[1;32m     12\u001b[0m x \u001b[39m=\u001b[39m \u001b[39mself\u001b[39m\u001b[39m.\u001b[39mpatch_embedding(x)\n\u001b[1;32m     13\u001b[0m \u001b[39mfor\u001b[39;00m _ \u001b[39min\u001b[39;00m \u001b[39mrange\u001b[39m(\u001b[39mself\u001b[39m\u001b[39m.\u001b[39mn_layers):\n\u001b[0;32m---> 14\u001b[0m   x \u001b[39m=\u001b[39m \u001b[39mself\u001b[39;49m\u001b[39m.\u001b[39;49mtransformer_encoder(x)\n\u001b[1;32m     15\u001b[0m y \u001b[39m=\u001b[39m \u001b[39mself\u001b[39m\u001b[39m.\u001b[39mlayer_norm(x[:,\u001b[39m0\u001b[39m,:])\n\u001b[1;32m     16\u001b[0m y \u001b[39m=\u001b[39m \u001b[39mself\u001b[39m\u001b[39m.\u001b[39mfinal_layer(y)\n",
            "File \u001b[0;32m~/.pyenv/versions/3.10.7/envs/cv-project-env/lib/python3.10/site-packages/torch/nn/modules/module.py:1501\u001b[0m, in \u001b[0;36mModule._call_impl\u001b[0;34m(self, *args, **kwargs)\u001b[0m\n\u001b[1;32m   1496\u001b[0m \u001b[39m# If we don't have any hooks, we want to skip the rest of the logic in\u001b[39;00m\n\u001b[1;32m   1497\u001b[0m \u001b[39m# this function, and just call forward.\u001b[39;00m\n\u001b[1;32m   1498\u001b[0m \u001b[39mif\u001b[39;00m \u001b[39mnot\u001b[39;00m (\u001b[39mself\u001b[39m\u001b[39m.\u001b[39m_backward_hooks \u001b[39mor\u001b[39;00m \u001b[39mself\u001b[39m\u001b[39m.\u001b[39m_backward_pre_hooks \u001b[39mor\u001b[39;00m \u001b[39mself\u001b[39m\u001b[39m.\u001b[39m_forward_hooks \u001b[39mor\u001b[39;00m \u001b[39mself\u001b[39m\u001b[39m.\u001b[39m_forward_pre_hooks\n\u001b[1;32m   1499\u001b[0m         \u001b[39mor\u001b[39;00m _global_backward_pre_hooks \u001b[39mor\u001b[39;00m _global_backward_hooks\n\u001b[1;32m   1500\u001b[0m         \u001b[39mor\u001b[39;00m _global_forward_hooks \u001b[39mor\u001b[39;00m _global_forward_pre_hooks):\n\u001b[0;32m-> 1501\u001b[0m     \u001b[39mreturn\u001b[39;00m forward_call(\u001b[39m*\u001b[39;49margs, \u001b[39m*\u001b[39;49m\u001b[39m*\u001b[39;49mkwargs)\n\u001b[1;32m   1502\u001b[0m \u001b[39m# Do not call functions when jit is used\u001b[39;00m\n\u001b[1;32m   1503\u001b[0m full_backward_hooks, non_full_backward_hooks \u001b[39m=\u001b[39m [], []\n",
            "Cell \u001b[0;32mIn[6], line 15\u001b[0m, in \u001b[0;36mTransformerEncoder.forward\u001b[0;34m(self, x)\u001b[0m\n\u001b[1;32m     13\u001b[0m \u001b[39mdef\u001b[39;00m \u001b[39mforward\u001b[39m(\u001b[39mself\u001b[39m, x):\n\u001b[1;32m     14\u001b[0m   z \u001b[39m=\u001b[39m \u001b[39mself\u001b[39m\u001b[39m.\u001b[39mn1(x)\n\u001b[0;32m---> 15\u001b[0m   y \u001b[39m=\u001b[39m \u001b[39mself\u001b[39;49m\u001b[39m.\u001b[39;49mattention(z,z,z)[\u001b[39m0\u001b[39m] \u001b[39m+\u001b[39m x\n\u001b[1;32m     16\u001b[0m   x \u001b[39m=\u001b[39m \u001b[39mself\u001b[39m\u001b[39m.\u001b[39mmlp(\u001b[39mself\u001b[39m\u001b[39m.\u001b[39mn2(y)) \u001b[39m+\u001b[39m y\n\u001b[1;32m     17\u001b[0m   \u001b[39mreturn\u001b[39;00m x\n",
            "File \u001b[0;32m~/.pyenv/versions/3.10.7/envs/cv-project-env/lib/python3.10/site-packages/torch/nn/modules/module.py:1501\u001b[0m, in \u001b[0;36mModule._call_impl\u001b[0;34m(self, *args, **kwargs)\u001b[0m\n\u001b[1;32m   1496\u001b[0m \u001b[39m# If we don't have any hooks, we want to skip the rest of the logic in\u001b[39;00m\n\u001b[1;32m   1497\u001b[0m \u001b[39m# this function, and just call forward.\u001b[39;00m\n\u001b[1;32m   1498\u001b[0m \u001b[39mif\u001b[39;00m \u001b[39mnot\u001b[39;00m (\u001b[39mself\u001b[39m\u001b[39m.\u001b[39m_backward_hooks \u001b[39mor\u001b[39;00m \u001b[39mself\u001b[39m\u001b[39m.\u001b[39m_backward_pre_hooks \u001b[39mor\u001b[39;00m \u001b[39mself\u001b[39m\u001b[39m.\u001b[39m_forward_hooks \u001b[39mor\u001b[39;00m \u001b[39mself\u001b[39m\u001b[39m.\u001b[39m_forward_pre_hooks\n\u001b[1;32m   1499\u001b[0m         \u001b[39mor\u001b[39;00m _global_backward_pre_hooks \u001b[39mor\u001b[39;00m _global_backward_hooks\n\u001b[1;32m   1500\u001b[0m         \u001b[39mor\u001b[39;00m _global_forward_hooks \u001b[39mor\u001b[39;00m _global_forward_pre_hooks):\n\u001b[0;32m-> 1501\u001b[0m     \u001b[39mreturn\u001b[39;00m forward_call(\u001b[39m*\u001b[39;49margs, \u001b[39m*\u001b[39;49m\u001b[39m*\u001b[39;49mkwargs)\n\u001b[1;32m   1502\u001b[0m \u001b[39m# Do not call functions when jit is used\u001b[39;00m\n\u001b[1;32m   1503\u001b[0m full_backward_hooks, non_full_backward_hooks \u001b[39m=\u001b[39m [], []\n",
            "File \u001b[0;32m~/.pyenv/versions/3.10.7/envs/cv-project-env/lib/python3.10/site-packages/torch/nn/modules/activation.py:1205\u001b[0m, in \u001b[0;36mMultiheadAttention.forward\u001b[0;34m(self, query, key, value, key_padding_mask, need_weights, attn_mask, average_attn_weights, is_causal)\u001b[0m\n\u001b[1;32m   1191\u001b[0m     attn_output, attn_output_weights \u001b[39m=\u001b[39m F\u001b[39m.\u001b[39mmulti_head_attention_forward(\n\u001b[1;32m   1192\u001b[0m         query, key, value, \u001b[39mself\u001b[39m\u001b[39m.\u001b[39membed_dim, \u001b[39mself\u001b[39m\u001b[39m.\u001b[39mnum_heads,\n\u001b[1;32m   1193\u001b[0m         \u001b[39mself\u001b[39m\u001b[39m.\u001b[39min_proj_weight, \u001b[39mself\u001b[39m\u001b[39m.\u001b[39min_proj_bias,\n\u001b[0;32m   (...)\u001b[0m\n\u001b[1;32m   1202\u001b[0m         average_attn_weights\u001b[39m=\u001b[39maverage_attn_weights,\n\u001b[1;32m   1203\u001b[0m         is_causal\u001b[39m=\u001b[39mis_causal)\n\u001b[1;32m   1204\u001b[0m \u001b[39melse\u001b[39;00m:\n\u001b[0;32m-> 1205\u001b[0m     attn_output, attn_output_weights \u001b[39m=\u001b[39m F\u001b[39m.\u001b[39;49mmulti_head_attention_forward(\n\u001b[1;32m   1206\u001b[0m         query, key, value, \u001b[39mself\u001b[39;49m\u001b[39m.\u001b[39;49membed_dim, \u001b[39mself\u001b[39;49m\u001b[39m.\u001b[39;49mnum_heads,\n\u001b[1;32m   1207\u001b[0m         \u001b[39mself\u001b[39;49m\u001b[39m.\u001b[39;49min_proj_weight, \u001b[39mself\u001b[39;49m\u001b[39m.\u001b[39;49min_proj_bias,\n\u001b[1;32m   1208\u001b[0m         \u001b[39mself\u001b[39;49m\u001b[39m.\u001b[39;49mbias_k, \u001b[39mself\u001b[39;49m\u001b[39m.\u001b[39;49mbias_v, \u001b[39mself\u001b[39;49m\u001b[39m.\u001b[39;49madd_zero_attn,\n\u001b[1;32m   1209\u001b[0m         \u001b[39mself\u001b[39;49m\u001b[39m.\u001b[39;49mdropout, \u001b[39mself\u001b[39;49m\u001b[39m.\u001b[39;49mout_proj\u001b[39m.\u001b[39;49mweight, \u001b[39mself\u001b[39;49m\u001b[39m.\u001b[39;49mout_proj\u001b[39m.\u001b[39;49mbias,\n\u001b[1;32m   1210\u001b[0m         training\u001b[39m=\u001b[39;49m\u001b[39mself\u001b[39;49m\u001b[39m.\u001b[39;49mtraining,\n\u001b[1;32m   1211\u001b[0m         key_padding_mask\u001b[39m=\u001b[39;49mkey_padding_mask,\n\u001b[1;32m   1212\u001b[0m         need_weights\u001b[39m=\u001b[39;49mneed_weights,\n\u001b[1;32m   1213\u001b[0m         attn_mask\u001b[39m=\u001b[39;49mattn_mask,\n\u001b[1;32m   1214\u001b[0m         average_attn_weights\u001b[39m=\u001b[39;49maverage_attn_weights,\n\u001b[1;32m   1215\u001b[0m         is_causal\u001b[39m=\u001b[39;49mis_causal)\n\u001b[1;32m   1216\u001b[0m \u001b[39mif\u001b[39;00m \u001b[39mself\u001b[39m\u001b[39m.\u001b[39mbatch_first \u001b[39mand\u001b[39;00m is_batched:\n\u001b[1;32m   1217\u001b[0m     \u001b[39mreturn\u001b[39;00m attn_output\u001b[39m.\u001b[39mtranspose(\u001b[39m1\u001b[39m, \u001b[39m0\u001b[39m), attn_output_weights\n",
            "File \u001b[0;32m~/.pyenv/versions/3.10.7/envs/cv-project-env/lib/python3.10/site-packages/torch/nn/functional.py:5333\u001b[0m, in \u001b[0;36mmulti_head_attention_forward\u001b[0;34m(query, key, value, embed_dim_to_check, num_heads, in_proj_weight, in_proj_bias, bias_k, bias_v, add_zero_attn, dropout_p, out_proj_weight, out_proj_bias, training, key_padding_mask, need_weights, attn_mask, use_separate_proj_weight, q_proj_weight, k_proj_weight, v_proj_weight, static_k, static_v, average_attn_weights, is_causal)\u001b[0m\n\u001b[1;32m   5330\u001b[0m B, Nt, E \u001b[39m=\u001b[39m q\u001b[39m.\u001b[39mshape\n\u001b[1;32m   5331\u001b[0m q_scaled \u001b[39m=\u001b[39m q \u001b[39m/\u001b[39m math\u001b[39m.\u001b[39msqrt(E)\n\u001b[0;32m-> 5333\u001b[0m \u001b[39massert\u001b[39;00m \u001b[39mnot\u001b[39;00m (is_causal \u001b[39mand\u001b[39;00m attn_mask \u001b[39mis\u001b[39;00m \u001b[39mNone\u001b[39;00m), \u001b[39m\"\u001b[39m\u001b[39mFIXME: is_causal not implemented for need_weights\u001b[39m\u001b[39m\"\u001b[39m\n\u001b[1;32m   5335\u001b[0m \u001b[39mif\u001b[39;00m attn_mask \u001b[39mis\u001b[39;00m \u001b[39mnot\u001b[39;00m \u001b[39mNone\u001b[39;00m:\n\u001b[1;32m   5336\u001b[0m     attn_output_weights \u001b[39m=\u001b[39m torch\u001b[39m.\u001b[39mbaddbmm(attn_mask, q_scaled, k\u001b[39m.\u001b[39mtranspose(\u001b[39m-\u001b[39m\u001b[39m2\u001b[39m, \u001b[39m-\u001b[39m\u001b[39m1\u001b[39m))\n",
            "\u001b[0;31mKeyboardInterrupt\u001b[0m: "
          ]
        },
        {
          "ename": "",
          "evalue": "",
          "output_type": "error",
          "traceback": [
            "\u001b[1;31mThe Kernel crashed while executing code in the the current cell or a previous cell. Please review the code in the cell(s) to identify a possible cause of the failure. Click <a href='https://aka.ms/vscodeJupyterKernelCrash'>here</a> for more info. View Jupyter <a href='command:jupyter.viewOutput'>log</a> for further details."
          ]
        }
      ],
      "source": [
        "import torch.optim as optim\n",
        "#We will vary embedding_dim, hidden_dim, n_heads, n_layers, later\n",
        "num_channels = 3\n",
        "image_size = 224\n",
        "patch_size = 16\n",
        "embedding_dim = 768\n",
        "hidden_dim = 3072\n",
        "n_heads = 12\n",
        "n_layers = 12\n",
        "num_classes = 2\n",
        "#large learning rate since not much time to train\n",
        "lr = 5e-4\n",
        "\n",
        "model = ViT(num_channels=num_channels, image_size=image_size, \n",
        "            patch_size=patch_size, embedding_dim=embedding_dim, \n",
        "            hidden_dim=hidden_dim, n_heads=n_heads, n_layers=n_layers, num_classes=num_classes)\n",
        "\n",
        "loss_function = nn.BCELoss()\n",
        "optimizer = optim.AdamW(model.parameters(), lr = lr, weight_decay=1e-2, betas=(0.9,0.999))\n",
        "scheduler = optim.lr_scheduler.ReduceLROnPlateau(optimizer, patience=3, factor=0.1)\n",
        "#Small number of epochs since we dont have the computational resources\n",
        "epochs = 50\n",
        "\n",
        "args = training_loop(train_dataloaders, model, epochs, loss_function, optimizer)\n",
        "visualize_training(args)\n"
      ]
    },
    {
      "cell_type": "markdown",
      "metadata": {},
      "source": [
        "Lets test the model"
      ]
    },
    {
      "cell_type": "code",
      "execution_count": null,
      "metadata": {},
      "outputs": [],
      "source": [
        "import itertools\n",
        "from tabulate import tabulate\n",
        "\n",
        "def test(test_dataloader, model):\n",
        "  model.to(device)\n",
        "  model.eval()\n",
        "  #Assumes that batch_size = len(test_dataloader)\n",
        "  for data, label in test_dataloader:\n",
        "    data = data.to(torch.float32)\n",
        "    label = label.to(torch.float32)\n",
        "    data, label = data.to(device), label.to(device)\n",
        "    output = model(data)\n",
        "    with torch.no_grad():\n",
        "      predictions = torch.argmax(output.to('cpu'), 1)\n",
        "      label = torch.argmax(label.to('cpu'), 1)\n",
        "      return confusion_matrix(label, predictions, labels=[0,1]), classification_report(label, predictions, output_dict=True)\n",
        "\n",
        "def visualize_testing(cm):\n",
        "  print(cm)\n",
        "  plt.imshow(cm, interpolation='nearest', cmap=plt.cm.Blues)\n",
        "  plt.title(\"Confusion Matrix\")\n",
        "  plt.colorbar()\n",
        "  tick_marks = np.arange(2)\n",
        "  plt.xticks(tick_marks, [0,1], rotation=45)\n",
        "  plt.yticks(tick_marks, [0,1])\n",
        "  thresh = cm.max() / 2.\n",
        "  for i, j in itertools.product(range(cm.shape[0]), range(cm.shape[1])):\n",
        "    plt.text(j, i, format(cm[i, j], 'd'),\n",
        "              horizontalalignment=\"center\",\n",
        "              color=\"white\" if cm[i, j] > thresh else \"black\")\n",
        "\n",
        "  plt.tight_layout()\n",
        "  plt.ylabel('True label')\n",
        "  plt.xlabel('Predicted label')\n",
        "  \n",
        "  "
      ]
    },
    {
      "cell_type": "code",
      "execution_count": null,
      "metadata": {},
      "outputs": [
        {
          "name": "stderr",
          "output_type": "stream",
          "text": [
            "/Users/madhavgopakumar/.pyenv/versions/3.10.7/envs/cv-project-env/lib/python3.10/site-packages/sklearn/metrics/_classification.py:1469: UndefinedMetricWarning: Precision and F-score are ill-defined and being set to 0.0 in labels with no predicted samples. Use `zero_division` parameter to control this behavior.\n",
            "  _warn_prf(average, modifier, msg_start, len(result))\n",
            "/Users/madhavgopakumar/.pyenv/versions/3.10.7/envs/cv-project-env/lib/python3.10/site-packages/sklearn/metrics/_classification.py:1469: UndefinedMetricWarning: Precision and F-score are ill-defined and being set to 0.0 in labels with no predicted samples. Use `zero_division` parameter to control this behavior.\n",
            "  _warn_prf(average, modifier, msg_start, len(result))\n",
            "/Users/madhavgopakumar/.pyenv/versions/3.10.7/envs/cv-project-env/lib/python3.10/site-packages/sklearn/metrics/_classification.py:1469: UndefinedMetricWarning: Precision and F-score are ill-defined and being set to 0.0 in labels with no predicted samples. Use `zero_division` parameter to control this behavior.\n",
            "  _warn_prf(average, modifier, msg_start, len(result))\n"
          ]
        },
        {
          "name": "stdout",
          "output_type": "stream",
          "text": [
            "[[617   0]\n",
            " [360   0]]\n",
            "╒═════════╤═════════════╤══════════╤════════════╤═══════════╕\n",
            "│ Label   │   Precision │   Recall │   F1-score │   Support │\n",
            "╞═════════╪═════════════╪══════════╪════════════╪═══════════╡\n",
            "│ HP      │    0.631525 │        1 │   0.774153 │       617 │\n",
            "├─────────┼─────────────┼──────────┼────────────┼───────────┤\n",
            "│ SSA     │    0        │        0 │   0        │       360 │\n",
            "╘═════════╧═════════════╧══════════╧════════════╧═══════════╛\n"
          ]
        },
        {
          "data": {
            "image/png": "[encoded data removed]",
            "text/plain": [
              "<Figure size 640x480 with 2 Axes>"
            ]
          },
          "metadata": {},
          "output_type": "display_data"
        }
      ],
      "source": [
        "cm, cr = test(test_dataloader, model)\n",
        "visualize_testing(cm)\n",
        "data = {\"Label\": [\"HP\", \"SSA\"], \"Precision\": [cr['0']['precision'], cr['1']['precision']], \"Recall\": [cr['0']['recall'], cr['1']['recall']],\n",
        "        \"F1-score\":[cr['0']['f1-score'], cr['1']['f1-score']], \"Support\": [cr['0']['support'], cr['1']['support']]}\n",
        "print(tabulate(data, headers=\"keys\", tablefmt=\"fancy_grid\"))"
      ]
    },
    {
      "cell_type": "markdown",
      "metadata": {},
      "source": [
        "**Balancing the Dataset**"
      ]
    },
    {
      "cell_type": "code",
      "execution_count": null,
      "metadata": {},
      "outputs": [
        {
          "name": "stdout",
          "output_type": "stream",
          "text": [
            "3090 3090\n"
          ]
        }
      ],
      "source": [
        "from imblearn.over_sampling import RandomOverSampler\n",
        "#We are going to try Random oversampling with image augmentation first\n",
        "train_transforms2 = transforms.Compose([transforms.ToPILImage(), \n",
        "                                       transforms.Resize(size=(227, 227)), \n",
        "                                       transforms.RandomHorizontalFlip(), \n",
        "                                       transforms.RandomAdjustSharpness(sharpness_factor=0.8),\n",
        "                                       transforms.RandomGrayscale(),transforms.ToTensor()])\n",
        "\n",
        "#We are going to apply random transformation to each of the training examples, and see their effect on the model in addition\n",
        "#Note that t_annotations is only the training data not the testing\n",
        "ros = RandomOverSampler(random_state=0)\n",
        "t_annotations_data, t_annotations_target = ros.fit_resample(t_annotations.drop([\"HP\"], axis=1), t_annotations['HP'])\n",
        "print(len(t_annotations_data[\"SSA\"] == True), len(t_annotations_data[\"SSA\"] == False))\n",
        "t_annotations_data[\"HP\"] = t_annotations_target\n",
        "train_annotations_ros, val_annotations_ros = train_test_split(t_annotations_data, train_size=0.8, stratify=t_annotations_data[\"HP\"])\n",
        "\n",
        "#Below is the training datasets with transformations applied\n",
        "train_dataset_ros = Plyops(train_annotations_ros, root_dir, train_transforms2)\n",
        "val_dataset_ros = Plyops(val_annotations_ros, root_dir, train_transforms2)\n",
        "\n",
        "batch_size = 32\n",
        "\n",
        "train_dataloaders_ros = {'train': DataLoader(train_dataset_ros, batch_size=batch_size), \n",
        "                                                    'val': DataLoader(val_dataset_ros, batch_size=batch_size)}"
      ]
    },
    {
      "cell_type": "code",
      "execution_count": null,
      "metadata": {},
      "outputs": [
        {
          "name": "stdout",
          "output_type": "stream",
          "text": [
            "Epoch: 0\n",
            "Epoch 0 average precision: 0.0 average f1: 0.0\n",
            "average recall: 0.0 average loss: tensor(0.6206, grad_fn=<DivBackward0>)\n",
            "Epoch: 1\n",
            "Epoch 1 average precision: 0.0 average f1: 0.0\n",
            "average recall: 0.0 average loss: tensor(0.6098, grad_fn=<DivBackward0>)\n",
            "Epoch: 2\n",
            "Epoch 2 average precision: 0.0 average f1: 0.0\n",
            "average recall: 0.0 average loss: tensor(0.6064, grad_fn=<DivBackward0>)\n",
            "Epoch: 3\n",
            "Epoch 3 average precision: 0.0 average f1: 0.0\n",
            "average recall: 0.0 average loss: tensor(0.6050, grad_fn=<DivBackward0>)\n",
            "Epoch: 4\n",
            "Epoch 4 average precision: 0.0 average f1: 0.0\n",
            "average recall: 0.0 average loss: tensor(0.6051, grad_fn=<DivBackward0>)\n",
            "Epoch: 5\n"
          ]
        },
        {
          "ename": "KeyboardInterrupt",
          "evalue": "",
          "output_type": "error",
          "traceback": [
            "\u001b[0;31m---------------------------------------------------------------------------\u001b[0m\n",
            "\u001b[0;31mKeyboardInterrupt\u001b[0m                         Traceback (most recent call last)\n",
            "Cell \u001b[0;32mIn[9], line 24\u001b[0m\n",
            "\u001b[1;32m     21\u001b[0m \u001b[39m#Small number of epochs since we dont have the computational resources\u001b[39;00m\n",
            "\u001b[1;32m     22\u001b[0m epochs \u001b[39m=\u001b[39m \u001b[39m500\u001b[39m\n",
            "\u001b[0;32m---> 24\u001b[0m training_loop(train_dataloaders, model, epochs, loss_function, optimizer)\n",
            "\n",
            "Cell \u001b[0;32mIn[8], line 24\u001b[0m, in \u001b[0;36mtraining_loop\u001b[0;34m(dataloader, model, epochs, loss_function, optimizer)\u001b[0m\n",
            "\u001b[1;32m     22\u001b[0m label \u001b[39m=\u001b[39m label\u001b[39m.\u001b[39mto(torch\u001b[39m.\u001b[39mfloat32)\n",
            "\u001b[1;32m     23\u001b[0m data, label \u001b[39m=\u001b[39m data\u001b[39m.\u001b[39mto(device), label\u001b[39m.\u001b[39mto(device)\n",
            "\u001b[0;32m---> 24\u001b[0m output \u001b[39m=\u001b[39m model(data)\n",
            "\u001b[1;32m     25\u001b[0m output\u001b[39m.\u001b[39mto(device)\n",
            "\u001b[1;32m     26\u001b[0m loss \u001b[39m=\u001b[39m loss_function(output, label)\n",
            "\n",
            "File \u001b[0;32m~/.pyenv/versions/3.10.7/envs/cv-project-env/lib/python3.10/site-packages/torch/nn/modules/module.py:1501\u001b[0m, in \u001b[0;36mModule._call_impl\u001b[0;34m(self, *args, **kwargs)\u001b[0m\n",
            "\u001b[1;32m   1496\u001b[0m \u001b[39m# If we don't have any hooks, we want to skip the rest of the logic in\u001b[39;00m\n",
            "\u001b[1;32m   1497\u001b[0m \u001b[39m# this function, and just call forward.\u001b[39;00m\n",
            "\u001b[1;32m   1498\u001b[0m \u001b[39mif\u001b[39;00m \u001b[39mnot\u001b[39;00m (\u001b[39mself\u001b[39m\u001b[39m.\u001b[39m_backward_hooks \u001b[39mor\u001b[39;00m \u001b[39mself\u001b[39m\u001b[39m.\u001b[39m_backward_pre_hooks \u001b[39mor\u001b[39;00m \u001b[39mself\u001b[39m\u001b[39m.\u001b[39m_forward_hooks \u001b[39mor\u001b[39;00m \u001b[39mself\u001b[39m\u001b[39m.\u001b[39m_forward_pre_hooks\n",
            "\u001b[1;32m   1499\u001b[0m         \u001b[39mor\u001b[39;00m _global_backward_pre_hooks \u001b[39mor\u001b[39;00m _global_backward_hooks\n",
            "\u001b[1;32m   1500\u001b[0m         \u001b[39mor\u001b[39;00m _global_forward_hooks \u001b[39mor\u001b[39;00m _global_forward_pre_hooks):\n",
            "\u001b[0;32m-> 1501\u001b[0m     \u001b[39mreturn\u001b[39;00m forward_call(\u001b[39m*\u001b[39;49margs, \u001b[39m*\u001b[39;49m\u001b[39m*\u001b[39;49mkwargs)\n",
            "\u001b[1;32m   1502\u001b[0m \u001b[39m# Do not call functions when jit is used\u001b[39;00m\n",
            "\u001b[1;32m   1503\u001b[0m full_backward_hooks, non_full_backward_hooks \u001b[39m=\u001b[39m [], []\n",
            "\n",
            "Cell \u001b[0;32mIn[7], line 14\u001b[0m, in \u001b[0;36mViT.forward\u001b[0;34m(self, x)\u001b[0m\n",
            "\u001b[1;32m     12\u001b[0m x \u001b[39m=\u001b[39m \u001b[39mself\u001b[39m\u001b[39m.\u001b[39mpatch_embedding(x)\n",
            "\u001b[1;32m     13\u001b[0m \u001b[39mfor\u001b[39;00m _ \u001b[39min\u001b[39;00m \u001b[39mrange\u001b[39m(\u001b[39mself\u001b[39m\u001b[39m.\u001b[39mn_layers):\n",
            "\u001b[0;32m---> 14\u001b[0m   x \u001b[39m=\u001b[39m \u001b[39mself\u001b[39;49m\u001b[39m.\u001b[39;49mtransformer_encoder(x)\n",
            "\u001b[1;32m     15\u001b[0m y \u001b[39m=\u001b[39m \u001b[39mself\u001b[39m\u001b[39m.\u001b[39mlayer_norm(x[:,\u001b[39m0\u001b[39m,:])\n",
            "\u001b[1;32m     16\u001b[0m y \u001b[39m=\u001b[39m \u001b[39mself\u001b[39m\u001b[39m.\u001b[39mfinal_layer(y)\n",
            "\n",
            "File \u001b[0;32m~/.pyenv/versions/3.10.7/envs/cv-project-env/lib/python3.10/site-packages/torch/nn/modules/module.py:1501\u001b[0m, in \u001b[0;36mModule._call_impl\u001b[0;34m(self, *args, **kwargs)\u001b[0m\n",
            "\u001b[1;32m   1496\u001b[0m \u001b[39m# If we don't have any hooks, we want to skip the rest of the logic in\u001b[39;00m\n",
            "\u001b[1;32m   1497\u001b[0m \u001b[39m# this function, and just call forward.\u001b[39;00m\n",
            "\u001b[1;32m   1498\u001b[0m \u001b[39mif\u001b[39;00m \u001b[39mnot\u001b[39;00m (\u001b[39mself\u001b[39m\u001b[39m.\u001b[39m_backward_hooks \u001b[39mor\u001b[39;00m \u001b[39mself\u001b[39m\u001b[39m.\u001b[39m_backward_pre_hooks \u001b[39mor\u001b[39;00m \u001b[39mself\u001b[39m\u001b[39m.\u001b[39m_forward_hooks \u001b[39mor\u001b[39;00m \u001b[39mself\u001b[39m\u001b[39m.\u001b[39m_forward_pre_hooks\n",
            "\u001b[1;32m   1499\u001b[0m         \u001b[39mor\u001b[39;00m _global_backward_pre_hooks \u001b[39mor\u001b[39;00m _global_backward_hooks\n",
            "\u001b[1;32m   1500\u001b[0m         \u001b[39mor\u001b[39;00m _global_forward_hooks \u001b[39mor\u001b[39;00m _global_forward_pre_hooks):\n",
            "\u001b[0;32m-> 1501\u001b[0m     \u001b[39mreturn\u001b[39;00m forward_call(\u001b[39m*\u001b[39;49margs, \u001b[39m*\u001b[39;49m\u001b[39m*\u001b[39;49mkwargs)\n",
            "\u001b[1;32m   1502\u001b[0m \u001b[39m# Do not call functions when jit is used\u001b[39;00m\n",
            "\u001b[1;32m   1503\u001b[0m full_backward_hooks, non_full_backward_hooks \u001b[39m=\u001b[39m [], []\n",
            "\n",
            "Cell \u001b[0;32mIn[6], line 15\u001b[0m, in \u001b[0;36mTransformerEncoder.forward\u001b[0;34m(self, x)\u001b[0m\n",
            "\u001b[1;32m     13\u001b[0m \u001b[39mdef\u001b[39;00m \u001b[39mforward\u001b[39m(\u001b[39mself\u001b[39m, x):\n",
            "\u001b[1;32m     14\u001b[0m   z \u001b[39m=\u001b[39m \u001b[39mself\u001b[39m\u001b[39m.\u001b[39mn1(x)\n",
            "\u001b[0;32m---> 15\u001b[0m   y \u001b[39m=\u001b[39m \u001b[39mself\u001b[39;49m\u001b[39m.\u001b[39;49mattention(z,z,z)[\u001b[39m0\u001b[39m] \u001b[39m+\u001b[39m x\n",
            "\u001b[1;32m     16\u001b[0m   x \u001b[39m=\u001b[39m \u001b[39mself\u001b[39m\u001b[39m.\u001b[39mmlp(\u001b[39mself\u001b[39m\u001b[39m.\u001b[39mn2(y)) \u001b[39m+\u001b[39m y\n",
            "\u001b[1;32m     17\u001b[0m   \u001b[39mreturn\u001b[39;00m x\n",
            "\n",
            "File \u001b[0;32m~/.pyenv/versions/3.10.7/envs/cv-project-env/lib/python3.10/site-packages/torch/nn/modules/module.py:1501\u001b[0m, in \u001b[0;36mModule._call_impl\u001b[0;34m(self, *args, **kwargs)\u001b[0m\n",
            "\u001b[1;32m   1496\u001b[0m \u001b[39m# If we don't have any hooks, we want to skip the rest of the logic in\u001b[39;00m\n",
            "\u001b[1;32m   1497\u001b[0m \u001b[39m# this function, and just call forward.\u001b[39;00m\n",
            "\u001b[1;32m   1498\u001b[0m \u001b[39mif\u001b[39;00m \u001b[39mnot\u001b[39;00m (\u001b[39mself\u001b[39m\u001b[39m.\u001b[39m_backward_hooks \u001b[39mor\u001b[39;00m \u001b[39mself\u001b[39m\u001b[39m.\u001b[39m_backward_pre_hooks \u001b[39mor\u001b[39;00m \u001b[39mself\u001b[39m\u001b[39m.\u001b[39m_forward_hooks \u001b[39mor\u001b[39;00m \u001b[39mself\u001b[39m\u001b[39m.\u001b[39m_forward_pre_hooks\n",
            "\u001b[1;32m   1499\u001b[0m         \u001b[39mor\u001b[39;00m _global_backward_pre_hooks \u001b[39mor\u001b[39;00m _global_backward_hooks\n",
            "\u001b[1;32m   1500\u001b[0m         \u001b[39mor\u001b[39;00m _global_forward_hooks \u001b[39mor\u001b[39;00m _global_forward_pre_hooks):\n",
            "\u001b[0;32m-> 1501\u001b[0m     \u001b[39mreturn\u001b[39;00m forward_call(\u001b[39m*\u001b[39;49margs, \u001b[39m*\u001b[39;49m\u001b[39m*\u001b[39;49mkwargs)\n",
            "\u001b[1;32m   1502\u001b[0m \u001b[39m# Do not call functions when jit is used\u001b[39;00m\n",
            "\u001b[1;32m   1503\u001b[0m full_backward_hooks, non_full_backward_hooks \u001b[39m=\u001b[39m [], []\n",
            "\n",
            "File \u001b[0;32m~/.pyenv/versions/3.10.7/envs/cv-project-env/lib/python3.10/site-packages/torch/nn/modules/activation.py:1205\u001b[0m, in \u001b[0;36mMultiheadAttention.forward\u001b[0;34m(self, query, key, value, key_padding_mask, need_weights, attn_mask, average_attn_weights, is_causal)\u001b[0m\n",
            "\u001b[1;32m   1191\u001b[0m     attn_output, attn_output_weights \u001b[39m=\u001b[39m F\u001b[39m.\u001b[39mmulti_head_attention_forward(\n",
            "\u001b[1;32m   1192\u001b[0m         query, key, value, \u001b[39mself\u001b[39m\u001b[39m.\u001b[39membed_dim, \u001b[39mself\u001b[39m\u001b[39m.\u001b[39mnum_heads,\n",
            "\u001b[1;32m   1193\u001b[0m         \u001b[39mself\u001b[39m\u001b[39m.\u001b[39min_proj_weight, \u001b[39mself\u001b[39m\u001b[39m.\u001b[39min_proj_bias,\n",
            "\u001b[0;32m   (...)\u001b[0m\n",
            "\u001b[1;32m   1202\u001b[0m         average_attn_weights\u001b[39m=\u001b[39maverage_attn_weights,\n",
            "\u001b[1;32m   1203\u001b[0m         is_causal\u001b[39m=\u001b[39mis_causal)\n",
            "\u001b[1;32m   1204\u001b[0m \u001b[39melse\u001b[39;00m:\n",
            "\u001b[0;32m-> 1205\u001b[0m     attn_output, attn_output_weights \u001b[39m=\u001b[39m F\u001b[39m.\u001b[39;49mmulti_head_attention_forward(\n",
            "\u001b[1;32m   1206\u001b[0m         query, key, value, \u001b[39mself\u001b[39;49m\u001b[39m.\u001b[39;49membed_dim, \u001b[39mself\u001b[39;49m\u001b[39m.\u001b[39;49mnum_heads,\n",
            "\u001b[1;32m   1207\u001b[0m         \u001b[39mself\u001b[39;49m\u001b[39m.\u001b[39;49min_proj_weight, \u001b[39mself\u001b[39;49m\u001b[39m.\u001b[39;49min_proj_bias,\n",
            "\u001b[1;32m   1208\u001b[0m         \u001b[39mself\u001b[39;49m\u001b[39m.\u001b[39;49mbias_k, \u001b[39mself\u001b[39;49m\u001b[39m.\u001b[39;49mbias_v, \u001b[39mself\u001b[39;49m\u001b[39m.\u001b[39;49madd_zero_attn,\n",
            "\u001b[1;32m   1209\u001b[0m         \u001b[39mself\u001b[39;49m\u001b[39m.\u001b[39;49mdropout, \u001b[39mself\u001b[39;49m\u001b[39m.\u001b[39;49mout_proj\u001b[39m.\u001b[39;49mweight, \u001b[39mself\u001b[39;49m\u001b[39m.\u001b[39;49mout_proj\u001b[39m.\u001b[39;49mbias,\n",
            "\u001b[1;32m   1210\u001b[0m         training\u001b[39m=\u001b[39;49m\u001b[39mself\u001b[39;49m\u001b[39m.\u001b[39;49mtraining,\n",
            "\u001b[1;32m   1211\u001b[0m         key_padding_mask\u001b[39m=\u001b[39;49mkey_padding_mask,\n",
            "\u001b[1;32m   1212\u001b[0m         need_weights\u001b[39m=\u001b[39;49mneed_weights,\n",
            "\u001b[1;32m   1213\u001b[0m         attn_mask\u001b[39m=\u001b[39;49mattn_mask,\n",
            "\u001b[1;32m   1214\u001b[0m         average_attn_weights\u001b[39m=\u001b[39;49maverage_attn_weights,\n",
            "\u001b[1;32m   1215\u001b[0m         is_causal\u001b[39m=\u001b[39;49mis_causal)\n",
            "\u001b[1;32m   1216\u001b[0m \u001b[39mif\u001b[39;00m \u001b[39mself\u001b[39m\u001b[39m.\u001b[39mbatch_first \u001b[39mand\u001b[39;00m is_batched:\n",
            "\u001b[1;32m   1217\u001b[0m     \u001b[39mreturn\u001b[39;00m attn_output\u001b[39m.\u001b[39mtranspose(\u001b[39m1\u001b[39m, \u001b[39m0\u001b[39m), attn_output_weights\n",
            "\n",
            "File \u001b[0;32m~/.pyenv/versions/3.10.7/envs/cv-project-env/lib/python3.10/site-packages/torch/nn/functional.py:5333\u001b[0m, in \u001b[0;36mmulti_head_attention_forward\u001b[0;34m(query, key, value, embed_dim_to_check, num_heads, in_proj_weight, in_proj_bias, bias_k, bias_v, add_zero_attn, dropout_p, out_proj_weight, out_proj_bias, training, key_padding_mask, need_weights, attn_mask, use_separate_proj_weight, q_proj_weight, k_proj_weight, v_proj_weight, static_k, static_v, average_attn_weights, is_causal)\u001b[0m\n",
            "\u001b[1;32m   5330\u001b[0m B, Nt, E \u001b[39m=\u001b[39m q\u001b[39m.\u001b[39mshape\n",
            "\u001b[1;32m   5331\u001b[0m q_scaled \u001b[39m=\u001b[39m q \u001b[39m/\u001b[39m math\u001b[39m.\u001b[39msqrt(E)\n",
            "\u001b[0;32m-> 5333\u001b[0m \u001b[39massert\u001b[39;00m \u001b[39mnot\u001b[39;00m (is_causal \u001b[39mand\u001b[39;00m attn_mask \u001b[39mis\u001b[39;00m \u001b[39mNone\u001b[39;00m), \u001b[39m\"\u001b[39m\u001b[39mFIXME: is_causal not implemented for need_weights\u001b[39m\u001b[39m\"\u001b[39m\n",
            "\u001b[1;32m   5335\u001b[0m \u001b[39mif\u001b[39;00m attn_mask \u001b[39mis\u001b[39;00m \u001b[39mnot\u001b[39;00m \u001b[39mNone\u001b[39;00m:\n",
            "\u001b[1;32m   5336\u001b[0m     attn_output_weights \u001b[39m=\u001b[39m torch\u001b[39m.\u001b[39mbaddbmm(attn_mask, q_scaled, k\u001b[39m.\u001b[39mtranspose(\u001b[39m-\u001b[39m\u001b[39m2\u001b[39m, \u001b[39m-\u001b[39m\u001b[39m1\u001b[39m))\n",
            "\n",
            "\u001b[0;31mKeyboardInterrupt\u001b[0m: "
          ]
        },
        {
          "ename": "",
          "evalue": "",
          "output_type": "error",
          "traceback": [
            "\u001b[1;31mThe Kernel crashed while executing code in the the current cell or a previous cell. Please review the code in the cell(s) to identify a possible cause of the failure. Click <a href='https://aka.ms/vscodeJupyterKernelCrash'>here</a> for more info. View Jupyter <a href='command:jupyter.viewOutput'>log</a> for further details."
          ]
        }
      ],
      "source": [
        "import torch.optim as optim\n",
        "#We will vary embedding_dim, hidden_dim, n_heads, n_layers, later\n",
        "num_channels = 3\n",
        "image_size = 224\n",
        "patch_size = 16\n",
        "embedding_dim = 768\n",
        "hidden_dim = 3072\n",
        "n_heads = 12\n",
        "n_layers = 12\n",
        "num_classes = 2\n",
        "#large learning rate since not much time to train\n",
        "lr = 5e-4\n",
        "\n",
        "model = ViT(num_channels=num_channels, image_size=image_size, \n",
        "            patch_size=patch_size, embedding_dim=embedding_dim, \n",
        "            hidden_dim=hidden_dim, n_heads=n_heads, n_layers=n_layers, num_classes=num_classes)\n",
        "\n",
        "loss_function = nn.BCELoss()\n",
        "optimizer = optim.AdamW(model.parameters(), lr = lr, weight_decay=1e-2, betas=(0.9,0.999))\n",
        "scheduler = optim.lr_scheduler.ReduceLROnPlateau(optimizer, patience=3, factor=0.1)\n",
        "#Small number of epochs since we dont have the computational resources\n",
        "epochs = 50\n",
        "\n",
        "args = training_loop(train_dataloaders, model, epochs, loss_function, optimizer)\n",
        "visualize_training(args)\n"
      ]
    },
    {
      "cell_type": "code",
      "execution_count": null,
      "metadata": {},
      "outputs": [
        {
          "name": "stdout",
          "output_type": "stream",
          "text": [
            "[[340 277]\n",
            " [282  78]]\n",
            "╒═════════╤═════════════╤══════════╤════════════╤═══════════╕\n",
            "│ Label   │   Precision │   Recall │   F1-score │   Support │\n",
            "╞═════════╪═════════════╪══════════╪════════════╪═══════════╡\n",
            "│ HP      │    0.546624 │ 0.551053 │   0.54883  │       617 │\n",
            "├─────────┼─────────────┼──────────┼────────────┼───────────┤\n",
            "│ SSA     │    0.219718 │ 0.216667 │   0.218182 │       360 │\n",
            "╘═════════╧═════════════╧══════════╧════════════╧═══════════╛\n"
          ]
        },
        {
          "data": {
            "image/png": "[encoded data removed]",
            "text/plain": [
              "<Figure size 640x480 with 2 Axes>"
            ]
          },
          "metadata": {},
          "output_type": "display_data"
        }
      ],
      "source": [
        "cm, cr = test(test_dataloader, model)\n",
        "visualize_testing(cm)\n",
        "data = {\"Label\": [\"HP\", \"SSA\"], \"Precision\": [cr['0']['precision'], cr['1']['precision']], \"Recall\": [cr['0']['recall'], cr['1']['recall']],\n",
        "        \"F1-score\":[cr['0']['f1-score'], cr['1']['f1-score']], \"Support\": [cr['0']['support'], cr['1']['support']]}\n",
        "print(tabulate(data, headers=\"keys\", tablefmt=\"fancy_grid\"))"
      ]
    },
    {
      "cell_type": "markdown",
      "metadata": {},
      "source": [
        "**Random Undersampling**"
      ]
    },
    {
      "cell_type": "code",
      "execution_count": null,
      "metadata": {},
      "outputs": [
        {
          "name": "stdout",
          "output_type": "stream",
          "text": [
            "1260 1260\n",
            "2472 1008\n"
          ]
        }
      ],
      "source": [
        "from imblearn.under_sampling import RandomUnderSampler\n",
        "#Now lets try random undersampling \n",
        "rus = RandomUnderSampler(random_state=0)\n",
        "t_annotations_data, t_annotations_target = rus.fit_resample(t_annotations.drop([\"HP\"], axis=1), t_annotations['HP'])\n",
        "print(len(t_annotations_data[\"SSA\"] == True), len(t_annotations_data[\"SSA\"] == False))\n",
        "t_annotations_data[\"HP\"] = t_annotations_target\n",
        "train_annotations_rus, val_annotations_rus = train_test_split(t_annotations_data, train_size=0.8, stratify=t_annotations_data[\"HP\"])\n",
        "\n",
        "#Below is the training datasets\n",
        "train_dataset_rus = Plyops(train_annotations_rus, root_dir, transform)\n",
        "val_dataset_rus = Plyops(val_annotations_rus, root_dir, transform)\n",
        "\n",
        "batch_size = 32\n",
        "\n",
        "train_dataloaders_rus = {'train': DataLoader(train_dataset_rus, batch_size=batch_size), \n",
        "                                                    'val': DataLoader(val_dataset_rus, batch_size=batch_size)}\n",
        "print(len(train_dataset_ros), len(train_dataset_rus))"
      ]
    },
    {
      "cell_type": "code",
      "execution_count": null,
      "metadata": {},
      "outputs": [
        {
          "name": "stdout",
          "output_type": "stream",
          "text": [
            "Epoch: 0\n",
            "Epoch 0 average precision: 0.0 average f1: 0.0\n",
            "average recall: 0.0 average loss: tensor(0.6206, grad_fn=<DivBackward0>)\n",
            "Epoch: 1\n",
            "Epoch 1 average precision: 0.0 average f1: 0.0\n",
            "average recall: 0.0 average loss: tensor(0.6098, grad_fn=<DivBackward0>)\n",
            "Epoch: 2\n",
            "Epoch 2 average precision: 0.0 average f1: 0.0\n",
            "average recall: 0.0 average loss: tensor(0.6064, grad_fn=<DivBackward0>)\n",
            "Epoch: 3\n",
            "Epoch 3 average precision: 0.0 average f1: 0.0\n",
            "average recall: 0.0 average loss: tensor(0.6050, grad_fn=<DivBackward0>)\n",
            "Epoch: 4\n",
            "Epoch 4 average precision: 0.0 average f1: 0.0\n",
            "average recall: 0.0 average loss: tensor(0.6051, grad_fn=<DivBackward0>)\n",
            "Epoch: 5\n"
          ]
        },
        {
          "ename": "KeyboardInterrupt",
          "evalue": "",
          "output_type": "error",
          "traceback": [
            "\u001b[0;31m---------------------------------------------------------------------------\u001b[0m\n",
            "\u001b[0;31mKeyboardInterrupt\u001b[0m                         Traceback (most recent call last)\n",
            "Cell \u001b[0;32mIn[9], line 24\u001b[0m\n",
            "\u001b[1;32m     21\u001b[0m \u001b[39m#Small number of epochs since we dont have the computational resources\u001b[39;00m\n",
            "\u001b[1;32m     22\u001b[0m epochs \u001b[39m=\u001b[39m \u001b[39m500\u001b[39m\n",
            "\u001b[0;32m---> 24\u001b[0m training_loop(train_dataloaders, model, epochs, loss_function, optimizer)\n",
            "\n",
            "Cell \u001b[0;32mIn[8], line 24\u001b[0m, in \u001b[0;36mtraining_loop\u001b[0;34m(dataloader, model, epochs, loss_function, optimizer)\u001b[0m\n",
            "\u001b[1;32m     22\u001b[0m label \u001b[39m=\u001b[39m label\u001b[39m.\u001b[39mto(torch\u001b[39m.\u001b[39mfloat32)\n",
            "\u001b[1;32m     23\u001b[0m data, label \u001b[39m=\u001b[39m data\u001b[39m.\u001b[39mto(device), label\u001b[39m.\u001b[39mto(device)\n",
            "\u001b[0;32m---> 24\u001b[0m output \u001b[39m=\u001b[39m model(data)\n",
            "\u001b[1;32m     25\u001b[0m output\u001b[39m.\u001b[39mto(device)\n",
            "\u001b[1;32m     26\u001b[0m loss \u001b[39m=\u001b[39m loss_function(output, label)\n",
            "\n",
            "File \u001b[0;32m~/.pyenv/versions/3.10.7/envs/cv-project-env/lib/python3.10/site-packages/torch/nn/modules/module.py:1501\u001b[0m, in \u001b[0;36mModule._call_impl\u001b[0;34m(self, *args, **kwargs)\u001b[0m\n",
            "\u001b[1;32m   1496\u001b[0m \u001b[39m# If we don't have any hooks, we want to skip the rest of the logic in\u001b[39;00m\n",
            "\u001b[1;32m   1497\u001b[0m \u001b[39m# this function, and just call forward.\u001b[39;00m\n",
            "\u001b[1;32m   1498\u001b[0m \u001b[39mif\u001b[39;00m \u001b[39mnot\u001b[39;00m (\u001b[39mself\u001b[39m\u001b[39m.\u001b[39m_backward_hooks \u001b[39mor\u001b[39;00m \u001b[39mself\u001b[39m\u001b[39m.\u001b[39m_backward_pre_hooks \u001b[39mor\u001b[39;00m \u001b[39mself\u001b[39m\u001b[39m.\u001b[39m_forward_hooks \u001b[39mor\u001b[39;00m \u001b[39mself\u001b[39m\u001b[39m.\u001b[39m_forward_pre_hooks\n",
            "\u001b[1;32m   1499\u001b[0m         \u001b[39mor\u001b[39;00m _global_backward_pre_hooks \u001b[39mor\u001b[39;00m _global_backward_hooks\n",
            "\u001b[1;32m   1500\u001b[0m         \u001b[39mor\u001b[39;00m _global_forward_hooks \u001b[39mor\u001b[39;00m _global_forward_pre_hooks):\n",
            "\u001b[0;32m-> 1501\u001b[0m     \u001b[39mreturn\u001b[39;00m forward_call(\u001b[39m*\u001b[39;49margs, \u001b[39m*\u001b[39;49m\u001b[39m*\u001b[39;49mkwargs)\n",
            "\u001b[1;32m   1502\u001b[0m \u001b[39m# Do not call functions when jit is used\u001b[39;00m\n",
            "\u001b[1;32m   1503\u001b[0m full_backward_hooks, non_full_backward_hooks \u001b[39m=\u001b[39m [], []\n",
            "\n",
            "Cell \u001b[0;32mIn[7], line 14\u001b[0m, in \u001b[0;36mViT.forward\u001b[0;34m(self, x)\u001b[0m\n",
            "\u001b[1;32m     12\u001b[0m x \u001b[39m=\u001b[39m \u001b[39mself\u001b[39m\u001b[39m.\u001b[39mpatch_embedding(x)\n",
            "\u001b[1;32m     13\u001b[0m \u001b[39mfor\u001b[39;00m _ \u001b[39min\u001b[39;00m \u001b[39mrange\u001b[39m(\u001b[39mself\u001b[39m\u001b[39m.\u001b[39mn_layers):\n",
            "\u001b[0;32m---> 14\u001b[0m   x \u001b[39m=\u001b[39m \u001b[39mself\u001b[39;49m\u001b[39m.\u001b[39;49mtransformer_encoder(x)\n",
            "\u001b[1;32m     15\u001b[0m y \u001b[39m=\u001b[39m \u001b[39mself\u001b[39m\u001b[39m.\u001b[39mlayer_norm(x[:,\u001b[39m0\u001b[39m,:])\n",
            "\u001b[1;32m     16\u001b[0m y \u001b[39m=\u001b[39m \u001b[39mself\u001b[39m\u001b[39m.\u001b[39mfinal_layer(y)\n",
            "\n",
            "File \u001b[0;32m~/.pyenv/versions/3.10.7/envs/cv-project-env/lib/python3.10/site-packages/torch/nn/modules/module.py:1501\u001b[0m, in \u001b[0;36mModule._call_impl\u001b[0;34m(self, *args, **kwargs)\u001b[0m\n",
            "\u001b[1;32m   1496\u001b[0m \u001b[39m# If we don't have any hooks, we want to skip the rest of the logic in\u001b[39;00m\n",
            "\u001b[1;32m   1497\u001b[0m \u001b[39m# this function, and just call forward.\u001b[39;00m\n",
            "\u001b[1;32m   1498\u001b[0m \u001b[39mif\u001b[39;00m \u001b[39mnot\u001b[39;00m (\u001b[39mself\u001b[39m\u001b[39m.\u001b[39m_backward_hooks \u001b[39mor\u001b[39;00m \u001b[39mself\u001b[39m\u001b[39m.\u001b[39m_backward_pre_hooks \u001b[39mor\u001b[39;00m \u001b[39mself\u001b[39m\u001b[39m.\u001b[39m_forward_hooks \u001b[39mor\u001b[39;00m \u001b[39mself\u001b[39m\u001b[39m.\u001b[39m_forward_pre_hooks\n",
            "\u001b[1;32m   1499\u001b[0m         \u001b[39mor\u001b[39;00m _global_backward_pre_hooks \u001b[39mor\u001b[39;00m _global_backward_hooks\n",
            "\u001b[1;32m   1500\u001b[0m         \u001b[39mor\u001b[39;00m _global_forward_hooks \u001b[39mor\u001b[39;00m _global_forward_pre_hooks):\n",
            "\u001b[0;32m-> 1501\u001b[0m     \u001b[39mreturn\u001b[39;00m forward_call(\u001b[39m*\u001b[39;49margs, \u001b[39m*\u001b[39;49m\u001b[39m*\u001b[39;49mkwargs)\n",
            "\u001b[1;32m   1502\u001b[0m \u001b[39m# Do not call functions when jit is used\u001b[39;00m\n",
            "\u001b[1;32m   1503\u001b[0m full_backward_hooks, non_full_backward_hooks \u001b[39m=\u001b[39m [], []\n",
            "\n",
            "Cell \u001b[0;32mIn[6], line 15\u001b[0m, in \u001b[0;36mTransformerEncoder.forward\u001b[0;34m(self, x)\u001b[0m\n",
            "\u001b[1;32m     13\u001b[0m \u001b[39mdef\u001b[39;00m \u001b[39mforward\u001b[39m(\u001b[39mself\u001b[39m, x):\n",
            "\u001b[1;32m     14\u001b[0m   z \u001b[39m=\u001b[39m \u001b[39mself\u001b[39m\u001b[39m.\u001b[39mn1(x)\n",
            "\u001b[0;32m---> 15\u001b[0m   y \u001b[39m=\u001b[39m \u001b[39mself\u001b[39;49m\u001b[39m.\u001b[39;49mattention(z,z,z)[\u001b[39m0\u001b[39m] \u001b[39m+\u001b[39m x\n",
            "\u001b[1;32m     16\u001b[0m   x \u001b[39m=\u001b[39m \u001b[39mself\u001b[39m\u001b[39m.\u001b[39mmlp(\u001b[39mself\u001b[39m\u001b[39m.\u001b[39mn2(y)) \u001b[39m+\u001b[39m y\n",
            "\u001b[1;32m     17\u001b[0m   \u001b[39mreturn\u001b[39;00m x\n",
            "\n",
            "File \u001b[0;32m~/.pyenv/versions/3.10.7/envs/cv-project-env/lib/python3.10/site-packages/torch/nn/modules/module.py:1501\u001b[0m, in \u001b[0;36mModule._call_impl\u001b[0;34m(self, *args, **kwargs)\u001b[0m\n",
            "\u001b[1;32m   1496\u001b[0m \u001b[39m# If we don't have any hooks, we want to skip the rest of the logic in\u001b[39;00m\n",
            "\u001b[1;32m   1497\u001b[0m \u001b[39m# this function, and just call forward.\u001b[39;00m\n",
            "\u001b[1;32m   1498\u001b[0m \u001b[39mif\u001b[39;00m \u001b[39mnot\u001b[39;00m (\u001b[39mself\u001b[39m\u001b[39m.\u001b[39m_backward_hooks \u001b[39mor\u001b[39;00m \u001b[39mself\u001b[39m\u001b[39m.\u001b[39m_backward_pre_hooks \u001b[39mor\u001b[39;00m \u001b[39mself\u001b[39m\u001b[39m.\u001b[39m_forward_hooks \u001b[39mor\u001b[39;00m \u001b[39mself\u001b[39m\u001b[39m.\u001b[39m_forward_pre_hooks\n",
            "\u001b[1;32m   1499\u001b[0m         \u001b[39mor\u001b[39;00m _global_backward_pre_hooks \u001b[39mor\u001b[39;00m _global_backward_hooks\n",
            "\u001b[1;32m   1500\u001b[0m         \u001b[39mor\u001b[39;00m _global_forward_hooks \u001b[39mor\u001b[39;00m _global_forward_pre_hooks):\n",
            "\u001b[0;32m-> 1501\u001b[0m     \u001b[39mreturn\u001b[39;00m forward_call(\u001b[39m*\u001b[39;49margs, \u001b[39m*\u001b[39;49m\u001b[39m*\u001b[39;49mkwargs)\n",
            "\u001b[1;32m   1502\u001b[0m \u001b[39m# Do not call functions when jit is used\u001b[39;00m\n",
            "\u001b[1;32m   1503\u001b[0m full_backward_hooks, non_full_backward_hooks \u001b[39m=\u001b[39m [], []\n",
            "\n",
            "File \u001b[0;32m~/.pyenv/versions/3.10.7/envs/cv-project-env/lib/python3.10/site-packages/torch/nn/modules/activation.py:1205\u001b[0m, in \u001b[0;36mMultiheadAttention.forward\u001b[0;34m(self, query, key, value, key_padding_mask, need_weights, attn_mask, average_attn_weights, is_causal)\u001b[0m\n",
            "\u001b[1;32m   1191\u001b[0m     attn_output, attn_output_weights \u001b[39m=\u001b[39m F\u001b[39m.\u001b[39mmulti_head_attention_forward(\n",
            "\u001b[1;32m   1192\u001b[0m         query, key, value, \u001b[39mself\u001b[39m\u001b[39m.\u001b[39membed_dim, \u001b[39mself\u001b[39m\u001b[39m.\u001b[39mnum_heads,\n",
            "\u001b[1;32m   1193\u001b[0m         \u001b[39mself\u001b[39m\u001b[39m.\u001b[39min_proj_weight, \u001b[39mself\u001b[39m\u001b[39m.\u001b[39min_proj_bias,\n",
            "\u001b[0;32m   (...)\u001b[0m\n",
            "\u001b[1;32m   1202\u001b[0m         average_attn_weights\u001b[39m=\u001b[39maverage_attn_weights,\n",
            "\u001b[1;32m   1203\u001b[0m         is_causal\u001b[39m=\u001b[39mis_causal)\n",
            "\u001b[1;32m   1204\u001b[0m \u001b[39melse\u001b[39;00m:\n",
            "\u001b[0;32m-> 1205\u001b[0m     attn_output, attn_output_weights \u001b[39m=\u001b[39m F\u001b[39m.\u001b[39;49mmulti_head_attention_forward(\n",
            "\u001b[1;32m   1206\u001b[0m         query, key, value, \u001b[39mself\u001b[39;49m\u001b[39m.\u001b[39;49membed_dim, \u001b[39mself\u001b[39;49m\u001b[39m.\u001b[39;49mnum_heads,\n",
            "\u001b[1;32m   1207\u001b[0m         \u001b[39mself\u001b[39;49m\u001b[39m.\u001b[39;49min_proj_weight, \u001b[39mself\u001b[39;49m\u001b[39m.\u001b[39;49min_proj_bias,\n",
            "\u001b[1;32m   1208\u001b[0m         \u001b[39mself\u001b[39;49m\u001b[39m.\u001b[39;49mbias_k, \u001b[39mself\u001b[39;49m\u001b[39m.\u001b[39;49mbias_v, \u001b[39mself\u001b[39;49m\u001b[39m.\u001b[39;49madd_zero_attn,\n",
            "\u001b[1;32m   1209\u001b[0m         \u001b[39mself\u001b[39;49m\u001b[39m.\u001b[39;49mdropout, \u001b[39mself\u001b[39;49m\u001b[39m.\u001b[39;49mout_proj\u001b[39m.\u001b[39;49mweight, \u001b[39mself\u001b[39;49m\u001b[39m.\u001b[39;49mout_proj\u001b[39m.\u001b[39;49mbias,\n",
            "\u001b[1;32m   1210\u001b[0m         training\u001b[39m=\u001b[39;49m\u001b[39mself\u001b[39;49m\u001b[39m.\u001b[39;49mtraining,\n",
            "\u001b[1;32m   1211\u001b[0m         key_padding_mask\u001b[39m=\u001b[39;49mkey_padding_mask,\n",
            "\u001b[1;32m   1212\u001b[0m         need_weights\u001b[39m=\u001b[39;49mneed_weights,\n",
            "\u001b[1;32m   1213\u001b[0m         attn_mask\u001b[39m=\u001b[39;49mattn_mask,\n",
            "\u001b[1;32m   1214\u001b[0m         average_attn_weights\u001b[39m=\u001b[39;49maverage_attn_weights,\n",
            "\u001b[1;32m   1215\u001b[0m         is_causal\u001b[39m=\u001b[39;49mis_causal)\n",
            "\u001b[1;32m   1216\u001b[0m \u001b[39mif\u001b[39;00m \u001b[39mself\u001b[39m\u001b[39m.\u001b[39mbatch_first \u001b[39mand\u001b[39;00m is_batched:\n",
            "\u001b[1;32m   1217\u001b[0m     \u001b[39mreturn\u001b[39;00m attn_output\u001b[39m.\u001b[39mtranspose(\u001b[39m1\u001b[39m, \u001b[39m0\u001b[39m), attn_output_weights\n",
            "\n",
            "File \u001b[0;32m~/.pyenv/versions/3.10.7/envs/cv-project-env/lib/python3.10/site-packages/torch/nn/functional.py:5333\u001b[0m, in \u001b[0;36mmulti_head_attention_forward\u001b[0;34m(query, key, value, embed_dim_to_check, num_heads, in_proj_weight, in_proj_bias, bias_k, bias_v, add_zero_attn, dropout_p, out_proj_weight, out_proj_bias, training, key_padding_mask, need_weights, attn_mask, use_separate_proj_weight, q_proj_weight, k_proj_weight, v_proj_weight, static_k, static_v, average_attn_weights, is_causal)\u001b[0m\n",
            "\u001b[1;32m   5330\u001b[0m B, Nt, E \u001b[39m=\u001b[39m q\u001b[39m.\u001b[39mshape\n",
            "\u001b[1;32m   5331\u001b[0m q_scaled \u001b[39m=\u001b[39m q \u001b[39m/\u001b[39m math\u001b[39m.\u001b[39msqrt(E)\n",
            "\u001b[0;32m-> 5333\u001b[0m \u001b[39massert\u001b[39;00m \u001b[39mnot\u001b[39;00m (is_causal \u001b[39mand\u001b[39;00m attn_mask \u001b[39mis\u001b[39;00m \u001b[39mNone\u001b[39;00m), \u001b[39m\"\u001b[39m\u001b[39mFIXME: is_causal not implemented for need_weights\u001b[39m\u001b[39m\"\u001b[39m\n",
            "\u001b[1;32m   5335\u001b[0m \u001b[39mif\u001b[39;00m attn_mask \u001b[39mis\u001b[39;00m \u001b[39mnot\u001b[39;00m \u001b[39mNone\u001b[39;00m:\n",
            "\u001b[1;32m   5336\u001b[0m     attn_output_weights \u001b[39m=\u001b[39m torch\u001b[39m.\u001b[39mbaddbmm(attn_mask, q_scaled, k\u001b[39m.\u001b[39mtranspose(\u001b[39m-\u001b[39m\u001b[39m2\u001b[39m, \u001b[39m-\u001b[39m\u001b[39m1\u001b[39m))\n",
            "\n",
            "\u001b[0;31mKeyboardInterrupt\u001b[0m: "
          ]
        },
        {
          "ename": "",
          "evalue": "",
          "output_type": "error",
          "traceback": [
            "\u001b[1;31mThe Kernel crashed while executing code in the the current cell or a previous cell. Please review the code in the cell(s) to identify a possible cause of the failure. Click <a href='https://aka.ms/vscodeJupyterKernelCrash'>here</a> for more info. View Jupyter <a href='command:jupyter.viewOutput'>log</a> for further details."
          ]
        }
      ],
      "source": [
        "import torch.optim as optim\n",
        "#We will vary embedding_dim, hidden_dim, n_heads, n_layers, later\n",
        "num_channels = 3\n",
        "image_size = 224\n",
        "patch_size = 16\n",
        "embedding_dim = 768\n",
        "hidden_dim = 3072\n",
        "n_heads = 12\n",
        "n_layers = 12\n",
        "num_classes = 2\n",
        "#large learning rate since not much time to train\n",
        "lr = 5e-4\n",
        "\n",
        "model = ViT(num_channels=num_channels, image_size=image_size, \n",
        "            patch_size=patch_size, embedding_dim=embedding_dim, \n",
        "            hidden_dim=hidden_dim, n_heads=n_heads, n_layers=n_layers, num_classes=num_classes)\n",
        "\n",
        "loss_function = nn.BCELoss()\n",
        "optimizer = optim.AdamW(model.parameters(), lr = lr, weight_decay=1e-2, betas=(0.9,0.999))\n",
        "scheduler = optim.lr_scheduler.ReduceLROnPlateau(optimizer, patience=3, factor=0.1)\n",
        "#Small number of epochs since we dont have the computational resources\n",
        "epochs = 50\n",
        "\n",
        "args = training_loop(train_dataloaders, model, epochs, loss_function, optimizer)\n",
        "visualize_training(args)\n"
      ]
    },
    {
      "cell_type": "code",
      "execution_count": null,
      "metadata": {},
      "outputs": [
        {
          "name": "stdout",
          "output_type": "stream",
          "text": [
            "[[340 277]\n",
            " [282  78]]\n",
            "╒═════════╤═════════════╤══════════╤════════════╤═══════════╕\n",
            "│ Label   │   Precision │   Recall │   F1-score │   Support │\n",
            "╞═════════╪═════════════╪══════════╪════════════╪═══════════╡\n",
            "│ HP      │    0.546624 │ 0.551053 │   0.54883  │       617 │\n",
            "├─────────┼─────────────┼──────────┼────────────┼───────────┤\n",
            "│ SSA     │    0.219718 │ 0.216667 │   0.218182 │       360 │\n",
            "╘═════════╧═════════════╧══════════╧════════════╧═══════════╛\n"
          ]
        },
        {
          "data": {
            "image/png": "[encoded data removed]",
            "text/plain": [
              "<Figure size 640x480 with 2 Axes>"
            ]
          },
          "metadata": {},
          "output_type": "display_data"
        }
      ],
      "source": [
        "cm, cr = test(test_dataloader, model)\n",
        "visualize_testing(cm)\n",
        "data = {\"Label\": [\"HP\", \"SSA\"], \"Precision\": [cr['0']['precision'], cr['1']['precision']], \"Recall\": [cr['0']['recall'], cr['1']['recall']],\n",
        "        \"F1-score\":[cr['0']['f1-score'], cr['1']['f1-score']], \"Support\": [cr['0']['support'], cr['1']['support']]}\n",
        "print(tabulate(data, headers=\"keys\", tablefmt=\"fancy_grid\"))"
      ]
    }
  ],
  "metadata": {
    "colab": {
      "provenance": []
    },
    "kernelspec": {
      "display_name": "Python 3",
      "name": "python3"
    },
    "language_info": {
      "codemirror_mode": {
        "name": "ipython",
        "version": 3
      },
      "file_extension": ".py",
      "mimetype": "text/x-python",
      "name": "python",
      "nbconvert_exporter": "python",
      "pygments_lexer": "ipython3",
      "version": "3.10.7"
    }
  },
  "nbformat": 4,
  "nbformat_minor": 0
}
