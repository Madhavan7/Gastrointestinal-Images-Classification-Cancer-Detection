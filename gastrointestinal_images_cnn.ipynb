{
 "cells": [
  {
   "cell_type": "code",
   "execution_count": 122,
   "metadata": {},
   "outputs": [
    {
     "name": "stdout",
     "output_type": "stream",
     "text": [
      "Requirement already satisfied: sklearn in /Users/madhavgopakumar/.pyenv/versions/3.10.7/envs/cv-project-env/lib/python3.10/site-packages (0.0.post9)\n",
      "Note: you may need to restart the kernel to use updated packages.\n",
      "Requirement already satisfied: pillow in /Users/madhavgopakumar/.pyenv/versions/3.10.7/envs/cv-project-env/lib/python3.10/site-packages (10.0.1)\n",
      "Note: you may need to restart the kernel to use updated packages.\n",
      "Requirement already satisfied: torchvision in /Users/madhavgopakumar/.pyenv/versions/3.10.7/envs/cv-project-env/lib/python3.10/site-packages (0.15.2)\n",
      "Requirement already satisfied: numpy in /Users/madhavgopakumar/.pyenv/versions/3.10.7/envs/cv-project-env/lib/python3.10/site-packages (from torchvision) (1.26.0)\n",
      "Requirement already satisfied: requests in /Users/madhavgopakumar/.pyenv/versions/3.10.7/envs/cv-project-env/lib/python3.10/site-packages (from torchvision) (2.31.0)\n",
      "Requirement already satisfied: torch==2.0.1 in /Users/madhavgopakumar/.pyenv/versions/3.10.7/envs/cv-project-env/lib/python3.10/site-packages (from torchvision) (2.0.1)\n",
      "Requirement already satisfied: pillow!=8.3.*,>=5.3.0 in /Users/madhavgopakumar/.pyenv/versions/3.10.7/envs/cv-project-env/lib/python3.10/site-packages (from torchvision) (10.0.1)\n",
      "Requirement already satisfied: filelock in /Users/madhavgopakumar/.pyenv/versions/3.10.7/envs/cv-project-env/lib/python3.10/site-packages (from torch==2.0.1->torchvision) (3.12.4)\n",
      "Requirement already satisfied: typing-extensions in /Users/madhavgopakumar/.pyenv/versions/3.10.7/envs/cv-project-env/lib/python3.10/site-packages (from torch==2.0.1->torchvision) (4.8.0)\n",
      "Requirement already satisfied: sympy in /Users/madhavgopakumar/.pyenv/versions/3.10.7/envs/cv-project-env/lib/python3.10/site-packages (from torch==2.0.1->torchvision) (1.12)\n",
      "Requirement already satisfied: networkx in /Users/madhavgopakumar/.pyenv/versions/3.10.7/envs/cv-project-env/lib/python3.10/site-packages (from torch==2.0.1->torchvision) (3.1)\n",
      "Requirement already satisfied: jinja2 in /Users/madhavgopakumar/.pyenv/versions/3.10.7/envs/cv-project-env/lib/python3.10/site-packages (from torch==2.0.1->torchvision) (3.1.2)\n",
      "Requirement already satisfied: charset-normalizer<4,>=2 in /Users/madhavgopakumar/.pyenv/versions/3.10.7/envs/cv-project-env/lib/python3.10/site-packages (from requests->torchvision) (3.2.0)\n",
      "Requirement already satisfied: idna<4,>=2.5 in /Users/madhavgopakumar/.pyenv/versions/3.10.7/envs/cv-project-env/lib/python3.10/site-packages (from requests->torchvision) (3.4)\n",
      "Requirement already satisfied: urllib3<3,>=1.21.1 in /Users/madhavgopakumar/.pyenv/versions/3.10.7/envs/cv-project-env/lib/python3.10/site-packages (from requests->torchvision) (2.0.5)\n",
      "Requirement already satisfied: certifi>=2017.4.17 in /Users/madhavgopakumar/.pyenv/versions/3.10.7/envs/cv-project-env/lib/python3.10/site-packages (from requests->torchvision) (2023.7.22)\n",
      "Requirement already satisfied: MarkupSafe>=2.0 in /Users/madhavgopakumar/.pyenv/versions/3.10.7/envs/cv-project-env/lib/python3.10/site-packages (from jinja2->torch==2.0.1->torchvision) (2.1.3)\n",
      "Requirement already satisfied: mpmath>=0.19 in /Users/madhavgopakumar/.pyenv/versions/3.10.7/envs/cv-project-env/lib/python3.10/site-packages (from sympy->torch==2.0.1->torchvision) (1.3.0)\n",
      "Note: you may need to restart the kernel to use updated packages.\n",
      "Requirement already satisfied: imbalanced-learn in /Users/madhavgopakumar/.pyenv/versions/3.10.7/envs/cv-project-env/lib/python3.10/site-packages (0.11.0)\n",
      "Requirement already satisfied: numpy>=1.17.3 in /Users/madhavgopakumar/.pyenv/versions/3.10.7/envs/cv-project-env/lib/python3.10/site-packages (from imbalanced-learn) (1.26.0)\n",
      "Requirement already satisfied: scipy>=1.5.0 in /Users/madhavgopakumar/.pyenv/versions/3.10.7/envs/cv-project-env/lib/python3.10/site-packages (from imbalanced-learn) (1.11.2)\n",
      "Requirement already satisfied: scikit-learn>=1.0.2 in /Users/madhavgopakumar/.pyenv/versions/3.10.7/envs/cv-project-env/lib/python3.10/site-packages (from imbalanced-learn) (1.3.1)\n",
      "Requirement already satisfied: joblib>=1.1.1 in /Users/madhavgopakumar/.pyenv/versions/3.10.7/envs/cv-project-env/lib/python3.10/site-packages (from imbalanced-learn) (1.3.2)\n",
      "Requirement already satisfied: threadpoolctl>=2.0.0 in /Users/madhavgopakumar/.pyenv/versions/3.10.7/envs/cv-project-env/lib/python3.10/site-packages (from imbalanced-learn) (3.2.0)\n",
      "Note: you may need to restart the kernel to use updated packages.\n"
     ]
    }
   ],
   "source": [
    "%pip install sklearn\n",
    "%pip install pillow\n",
    "%pip install torchvision\n",
    "%pip install imbalanced-learn"
   ]
  },
  {
   "cell_type": "markdown",
   "metadata": {},
   "source": [
    "Dataset"
   ]
  },
  {
   "cell_type": "code",
   "execution_count": 123,
   "metadata": {},
   "outputs": [
    {
     "name": "stdout",
     "output_type": "stream",
     "text": [
      "1236 1740\n",
      "309 435\n"
     ]
    },
    {
     "name": "stderr",
     "output_type": "stream",
     "text": [
      "/var/folders/hl/86tbqlkd413g631jyj246ld00000gn/T/ipykernel_78100/738772028.py:22: UserWarning: Boolean Series key will be reindexed to match DataFrame index.\n",
      "  print(len(train_annotations[HP] == True), len(train_annotations))\n",
      "/var/folders/hl/86tbqlkd413g631jyj246ld00000gn/T/ipykernel_78100/738772028.py:23: UserWarning: Boolean Series key will be reindexed to match DataFrame index.\n",
      "  print(len(val_annotations[HP] == True), len(val_annotations))\n"
     ]
    }
   ],
   "source": [
    "import PIL as Image\n",
    "import torch\n",
    "import torchvision.transforms as transforms\n",
    "import pandas as pd\n",
    "import os\n",
    "from torch.utils.data import Dataset, DataLoader\n",
    "from skimage import io\n",
    "from sklearn.model_selection import train_test_split\n",
    "\n",
    "device = torch.device('cuda') if torch.cuda.is_available() else torch.device('cpu')\n",
    "#Preparing the dataset\n",
    "annotations = pd.read_csv(\"Datasets/annotations.csv\")\n",
    "HP = annotations.iloc[:,1] == \"HP\"\n",
    "SSA = annotations.iloc[:,1] == \"SSA\"\n",
    "annotations[\"HP\"] = HP\n",
    "annotations[\"SSA\"] = SSA\n",
    "t_annotations = annotations[annotations[\"Partition\"]==\"train\"]\n",
    "\n",
    "train_annotations, val_annotations = train_test_split(t_annotations, train_size=0.8, stratify=t_annotations[\"HP\"])\n",
    "\n",
    "# Just to confirm if the distribution is the same \n",
    "print(len(train_annotations[HP] == True), len(train_annotations))\n",
    "print(len(val_annotations[HP] == True), len(val_annotations))\n",
    "test_annotations = annotations[annotations[\"Partition\"]==\"test\"]\n",
    "root_dir = \"Datasets/images/\"\n",
    "\n",
    "class Plyops(Dataset):\n",
    "  def __init__(self, annotations, root_dir, transform = None) -> None:\n",
    "    self.annotations = annotations\n",
    "    self.root_dir = root_dir\n",
    "    self.transform = transform\n",
    "\n",
    "  def __len__(self):\n",
    "    return len(self.annotations)\n",
    "  \n",
    "  def __getitem__(self, index):\n",
    "    img_path = os.path.join(self.root_dir, self.annotations.iloc[index, 0])\n",
    "    image = io.imread(img_path)\n",
    "\n",
    "    if self.transform:\n",
    "      image = self.transform(image)\n",
    "    \n",
    "    y_label = torch.tensor([int(self.annotations.iloc[index, 4]),int(self.annotations.iloc[index, 5])])\n",
    "    return (image, y_label)\n",
    "  \n",
    "  \n",
    "transform = transforms.Compose([transforms.ToPILImage(), transforms.Resize(size=(227, 227)), transforms.ToTensor()])\n",
    "\n",
    "train_dataset = Plyops(train_annotations, root_dir, transform)\n",
    "val_dataset = Plyops(val_annotations, root_dir, transform)\n",
    "test_dataset = Plyops(test_annotations, root_dir, transform)\n",
    "\n",
    "batch_size = 32\n",
    "\n",
    "train_dataloaders = {'train': DataLoader(train_dataset, batch_size=batch_size), 'val': DataLoader(val_dataset, batch_size=batch_size)}\n",
    "test_dataloader = DataLoader(test_dataset, batch_size=len(test_dataset))\n",
    "\n",
    "dataset_sizes = {'train': len(train_dataloaders['train']), 'val': len(train_dataloaders['val']), 'test': len(test_dataloader)}"
   ]
  },
  {
   "cell_type": "markdown",
   "metadata": {},
   "source": [
    "Models"
   ]
  },
  {
   "cell_type": "code",
   "execution_count": 151,
   "metadata": {},
   "outputs": [],
   "source": [
    "import torch.nn as nn\n",
    "from einops import rearrange\n",
    "\n",
    "class AlexNet(nn.Module):\n",
    "  def __init__(self, num_classes):\n",
    "    super(AlexNet, self).__init__()\n",
    "    self.conv1 = nn.Conv2d(3, 96, kernel_size=(11,11), stride=4)\n",
    "    self.act1 = nn.ReLU()\n",
    "    self.max_pool1 = nn.MaxPool2d(kernel_size=(3,3), stride=2)\n",
    "    self.norm1 = nn.BatchNorm2d(num_features=96)\n",
    "    self.conv2 = nn.Conv2d(96, 256, kernel_size=(5,5), padding=2)\n",
    "    self.act2 = nn.ReLU()\n",
    "    self.max_pool2 = nn.MaxPool2d(kernel_size=(3,3), stride=2)\n",
    "    self.norm2 = nn.BatchNorm2d(num_features=256)\n",
    "    self.conv3 = nn.Conv2d(256, 384, kernel_size=(3,3), stride=1, padding=1)\n",
    "    self.conv4 = nn.Conv2d(384, 384, kernel_size=(3,3), stride = 1, padding = 1)\n",
    "    self.conv5 = nn.Conv2d(384, 256, kernel_size=(3,3) ,stride=1, padding=1)\n",
    "    self.act3 = nn.ReLU()\n",
    "    self.max_pool3 = nn.MaxPool2d(kernel_size=(3,3), stride= 2)\n",
    "    self.fc1 = nn.Linear(9216, 4096)\n",
    "    self.fc2 = nn.Linear(4096, 4096)\n",
    "    self.fc3 = nn.Linear(4096, num_classes)\n",
    "    self.softmax = nn.Softmax(dim = 1)\n",
    "  \n",
    "  def forward(self, x):\n",
    "    x = self.norm1(self.max_pool1(self.act1(self.conv1(x))))\n",
    "    x = self.norm2(self.max_pool2(self.act2(self.conv2(x))))\n",
    "    x= self.max_pool3(self.act3(self.conv5(self.conv4(self.conv3(x)))))\n",
    "    x = rearrange(x, 'b h w c -> b (h w c)')\n",
    "    x = self.fc3(self.fc2(self.fc1(x)))\n",
    "    x = self.softmax(x)\n",
    "    return x "
   ]
  },
  {
   "cell_type": "markdown",
   "metadata": {},
   "source": [
    "**Training and Testing**"
   ]
  },
  {
   "cell_type": "code",
   "execution_count": 125,
   "metadata": {},
   "outputs": [],
   "source": [
    "%matplotlib inline\n",
    "import matplotlib.pyplot as plt\n",
    "import numpy as np\n",
    "def visualize(*args, labels):\n",
    "  n = len(args[0])\n",
    "  x = np.arange(0,n, 1)\n",
    "  assert len(args) == len(labels), \"Each list must have a corresponding label\"\n",
    "  #Defining the functions used for plotting\n",
    "  for i in range(len(args)):\n",
    "    assert len(args[i]) == n, \"incorrect number of values\"\n",
    "    plt.plot(x, args[i], label = labels[i])\n",
    "  plt.xlim(0,n-1)\n",
    "  plt.xticks(range(0,n-1))\n",
    "  plt.ylim(0,1)\n",
    "  plt.title(\"Model Evaluation\")\n",
    "  plt.xlabel(\"Epochs\")\n",
    "  plt.ylabel(\"Metrics\")\n",
    "  plt.legend()\n",
    "  plt.show()\n",
    "\n",
    "def visualize_training(*args):\n",
    "  labels = [\"Precision\", \"Recall\", \"F1\", \"Specificity\"]\n",
    "  visualize(*args, labels= labels)\n",
    "\n",
    "def visualize_testing(c_matrix):\n",
    "  pass"
   ]
  },
  {
   "cell_type": "code",
   "execution_count": 150,
   "metadata": {},
   "outputs": [],
   "source": [
    "from numpy import mean\n",
    "from sklearn.metrics import confusion_matrix, classification_report, precision_score, recall_score, f1_score\n",
    "\n",
    "\n",
    "def training_loop(dataloader, model, epochs, loss_function, optimizer, scheduler = None):\n",
    "  epoch_losses = []\n",
    "  epoch_precisions = []\n",
    "  epoch_recalls = []\n",
    "  epoch_f1_scores = []\n",
    "  epoch_specificities = []\n",
    "  for epoch in range(epochs):\n",
    "    print(\"Epoch: \" + str(epoch))\n",
    "    batch_tn = []\n",
    "    batch_fp = []\n",
    "    batch_tp = []\n",
    "    batch_fn = []\n",
    "    batch_losses = []\n",
    "    for x in ['train', 'val']:\n",
    "      if x == 'train':\n",
    "        model.train()\n",
    "      else:\n",
    "        model.eval()\n",
    "      for (data, label) in dataloader[x]:\n",
    "        data = data.to(torch.float32)\n",
    "        label = label.to(torch.float32)\n",
    "        data, label = data.to(device), label.to(device)\n",
    "        output = model(data)\n",
    "        output.to(device)\n",
    "        loss = loss_function(output, label)\n",
    "        optimizer.zero_grad()\n",
    "        with torch.no_grad():\n",
    "          predictions = torch.argmax(output, 1)\n",
    "          label = torch.argmax(label, 1)\n",
    "          tn, fp, fn, tp = confusion_matrix(label, predictions, labels=[0,1]).ravel()\n",
    "\n",
    "        if x == 'train':\n",
    "          loss.backward()\n",
    "          optimizer.step()\n",
    "        else:\n",
    "          batch_losses.append(loss.item())\n",
    "          batch_tn.append(tn)\n",
    "          batch_fp.append(fp)\n",
    "          batch_tp.append(tp)\n",
    "          batch_fn.append(fn)\n",
    "\n",
    "    epoch_loss = mean(batch_losses)\n",
    "    epoch_losses.append(epoch_loss)\n",
    "    epoch_tn, epoch_fp, epoch_tp, epoch_fn = sum(batch_tn), sum(batch_fp), sum(batch_tp), sum(batch_fn)\n",
    "    \n",
    "    if scheduler:\n",
    "        scheduler.step(epoch_loss)\n",
    "\n",
    "    epoch_precision = epoch_tp/(epoch_tp + epoch_fp) if epoch_tp + epoch_fp != 0 else 0\n",
    "    epoch_precisions.append(epoch_precision)\n",
    "    epoch_recall = epoch_tp/(epoch_tp + epoch_fn) if epoch_tp + epoch_fp != 0 else 1\n",
    "    epoch_recalls.append(epoch_recall)\n",
    "    epoch_f1 = (2*epoch_recall*epoch_precision)/(epoch_recall + epoch_precision) if epoch_recall + epoch_precision != 0 else 0\n",
    "    epoch_f1_scores.append(epoch_f1)\n",
    "    epoch_specificity = epoch_tn/(epoch_tn + epoch_fp) if epoch_tn + epoch_fp != 0 else 1\n",
    "    epoch_specificities.append(epoch_specificity)\n",
    "          \n",
    "    print(\"Precision: \" + str(epoch_precision) \n",
    "          + \" F1: \" + str(epoch_f1))\n",
    "    print(\"Recall: \" + str(epoch_recall) + \" Specificity: \" + str(epoch_specificity))\n",
    "    print(\"Loss: \" + str(epoch_loss))\n",
    "\n",
    "  return [epoch_precisions, epoch_recalls, epoch_f1_scores, epoch_specificities]\n"
   ]
  },
  {
   "cell_type": "code",
   "execution_count": 149,
   "metadata": {},
   "outputs": [
    {
     "name": "stdout",
     "output_type": "stream",
     "text": [
      "Epoch: 0\n"
     ]
    },
    {
     "ename": "UnboundLocalError",
     "evalue": "local variable 'epoch_loss' referenced before assignment",
     "output_type": "error",
     "traceback": [
      "\u001b[0;31m---------------------------------------------------------------------------\u001b[0m",
      "\u001b[0;31mUnboundLocalError\u001b[0m                         Traceback (most recent call last)",
      "Cell \u001b[0;32mIn[149], line 12\u001b[0m\n\u001b[1;32m      9\u001b[0m \u001b[39m#Small number of epochs since we dont have the computational resources\u001b[39;00m\n\u001b[1;32m     10\u001b[0m epochs \u001b[39m=\u001b[39m \u001b[39m2\u001b[39m\n\u001b[0;32m---> 12\u001b[0m args \u001b[39m=\u001b[39m training_loop(train_dataloaders, model, epochs, loss_function, optimizer, scheduler)\n\u001b[1;32m     14\u001b[0m visualize_training(\u001b[39m*\u001b[39margs)\n",
      "Cell \u001b[0;32mIn[148], line 46\u001b[0m, in \u001b[0;36mtraining_loop\u001b[0;34m(dataloader, model, epochs, loss_function, optimizer, scheduler)\u001b[0m\n\u001b[1;32m     44\u001b[0m       batch_fn\u001b[39m.\u001b[39mappend(fn)\n\u001b[1;32m     45\u001b[0m       \u001b[39mif\u001b[39;00m scheduler:\n\u001b[0;32m---> 46\u001b[0m         scheduler\u001b[39m.\u001b[39mstep(epoch_loss)\n\u001b[1;32m     48\u001b[0m epoch_loss \u001b[39m=\u001b[39m mean(batch_losses)\n\u001b[1;32m     49\u001b[0m epoch_losses\u001b[39m.\u001b[39mappend(epoch_loss)\n",
      "\u001b[0;31mUnboundLocalError\u001b[0m: local variable 'epoch_loss' referenced before assignment"
     ]
    }
   ],
   "source": [
    "import torch.optim as optim\n",
    "#large learning rate since not much time to train\n",
    "lr = 5e-4\n",
    "model = AlexNet(2)\n",
    "\n",
    "loss_function = nn.BCELoss()\n",
    "optimizer = optim.SGD(model.parameters(), lr = lr, weight_decay=5e-4, momentum=0.9)\n",
    "scheduler = optim.lr_scheduler.ReduceLROnPlateau(optimizer, patience=3, factor=0.1)\n",
    "#Small number of epochs since we dont have the computational resources\n",
    "epochs = 25\n",
    "\n",
    "args = training_loop(train_dataloaders, model, epochs, loss_function, optimizer, scheduler)\n",
    "\n",
    "visualize_training(*args)\n"
   ]
  },
  {
   "cell_type": "markdown",
   "metadata": {},
   "source": [
    "Lets test the model"
   ]
  },
  {
   "cell_type": "code",
   "execution_count": 136,
   "metadata": {},
   "outputs": [],
   "source": [
    "import itertools\n",
    "from tabulate import tabulate\n",
    "\n",
    "def test(test_dataloader, model):\n",
    "  model.eval()\n",
    "  #Assumes that batch_size = len(test_dataloader)\n",
    "  for data, label in test_dataloader:\n",
    "    data = data.to(torch.float32)\n",
    "    label = label.to(torch.float32)\n",
    "    data, label = data.to(device), label.to(device)\n",
    "    output = model(data)\n",
    "    with torch.no_grad():\n",
    "      predictions = torch.argmax(output, 1)\n",
    "      label = torch.argmax(label, 1)\n",
    "      return confusion_matrix(label, predictions, labels=[0,1]), classification_report(label, predictions, output_dict=True)\n",
    "\n",
    "def visualize_testing(cm):\n",
    "  print(cm)\n",
    "  plt.imshow(cm, interpolation='nearest', cmap=plt.cm.Blues)\n",
    "  plt.title(\"Confusion Matrix\")\n",
    "  plt.colorbar()\n",
    "  tick_marks = np.arange(2)\n",
    "  plt.xticks(tick_marks, [0,1], rotation=45)\n",
    "  plt.yticks(tick_marks, [0,1])\n",
    "  thresh = cm.max() / 2.\n",
    "  for i, j in itertools.product(range(cm.shape[0]), range(cm.shape[1])):\n",
    "    plt.text(j, i, format(cm[i, j], 'd'),\n",
    "              horizontalalignment=\"center\",\n",
    "              color=\"white\" if cm[i, j] > thresh else \"black\")\n",
    "\n",
    "  plt.tight_layout()\n",
    "  plt.ylabel('True label')\n",
    "  plt.xlabel('Predicted label')\n",
    "  \n",
    "  "
   ]
  },
  {
   "cell_type": "code",
   "execution_count": 129,
   "metadata": {},
   "outputs": [
    {
     "name": "stderr",
     "output_type": "stream",
     "text": [
      "/Users/madhavgopakumar/.pyenv/versions/3.10.7/envs/cv-project-env/lib/python3.10/site-packages/sklearn/metrics/_classification.py:1469: UndefinedMetricWarning: Precision and F-score are ill-defined and being set to 0.0 in labels with no predicted samples. Use `zero_division` parameter to control this behavior.\n",
      "  _warn_prf(average, modifier, msg_start, len(result))\n",
      "/Users/madhavgopakumar/.pyenv/versions/3.10.7/envs/cv-project-env/lib/python3.10/site-packages/sklearn/metrics/_classification.py:1469: UndefinedMetricWarning: Precision and F-score are ill-defined and being set to 0.0 in labels with no predicted samples. Use `zero_division` parameter to control this behavior.\n",
      "  _warn_prf(average, modifier, msg_start, len(result))\n",
      "/Users/madhavgopakumar/.pyenv/versions/3.10.7/envs/cv-project-env/lib/python3.10/site-packages/sklearn/metrics/_classification.py:1469: UndefinedMetricWarning: Precision and F-score are ill-defined and being set to 0.0 in labels with no predicted samples. Use `zero_division` parameter to control this behavior.\n",
      "  _warn_prf(average, modifier, msg_start, len(result))\n"
     ]
    },
    {
     "name": "stdout",
     "output_type": "stream",
     "text": [
      "[[617   0]\n",
      " [360   0]]\n",
      "╒═════════╤═════════════╤══════════╤════════════╤═══════════╕\n",
      "│ Label   │   Precision │   Recall │   F1-score │   Support │\n",
      "╞═════════╪═════════════╪══════════╪════════════╪═══════════╡\n",
      "│ HP      │    0.631525 │        1 │   0.774153 │       617 │\n",
      "├─────────┼─────────────┼──────────┼────────────┼───────────┤\n",
      "│ SSA     │    0        │        0 │   0        │       360 │\n",
      "╘═════════╧═════════════╧══════════╧════════════╧═══════════╛\n"
     ]
    },
    {
     "data": {
      "image/png": "[encoded data removed]",
      "text/plain": [
       "<Figure size 640x480 with 2 Axes>"
      ]
     },
     "metadata": {},
     "output_type": "display_data"
    }
   ],
   "source": [
    "cm, cr = test(test_dataloader, model)\n",
    "visualize_testing(cm)\n",
    "data = {\"Label\": [\"HP\", \"SSA\"], \"Precision\": [cr['0']['precision'], cr['1']['precision']], \"Recall\": [cr['0']['recall'], cr['1']['recall']],\n",
    "        \"F1-score\":[cr['0']['f1-score'], cr['1']['f1-score']], \"Support\": [cr['0']['support'], cr['1']['support']]}\n",
    "print(tabulate(data, headers=\"keys\", tablefmt=\"fancy_grid\"))"
   ]
  },
  {
   "cell_type": "markdown",
   "metadata": {},
   "source": [
    "**Balancing the Dataset**"
   ]
  },
  {
   "cell_type": "code",
   "execution_count": 134,
   "metadata": {},
   "outputs": [
    {
     "name": "stdout",
     "output_type": "stream",
     "text": [
      "3090 3090\n"
     ]
    }
   ],
   "source": [
    "from imblearn.over_sampling import RandomOverSampler\n",
    "#We are going to try Random oversampling with image augmentation first\n",
    "train_transforms2 = transforms.Compose([transforms.ToPILImage(), \n",
    "                                       transforms.Resize(size=(227, 227)), \n",
    "                                       transforms.RandomHorizontalFlip(), \n",
    "                                       transforms.RandomAdjustSharpness(sharpness_factor=0.8),\n",
    "                                       transforms.RandomGrayscale(),transforms.ToTensor()])\n",
    "\n",
    "#We are going to apply random transformation to each of the training examples, and see their effect on the model in addition\n",
    "#Note that t_annotations is only the training data not the testing\n",
    "ros = RandomOverSampler(random_state=0)\n",
    "t_annotations_data, t_annotations_target = ros.fit_resample(t_annotations.drop([\"HP\"], axis=1), t_annotations['HP'])\n",
    "print(len(t_annotations_data[\"SSA\"] == True), len(t_annotations_data[\"SSA\"] == False))\n",
    "t_annotations_data[\"HP\"] = t_annotations_target\n",
    "train_annotations_ros, val_annotations_ros = train_test_split(t_annotations_data, train_size=0.8, stratify=t_annotations_data[\"HP\"])\n",
    "\n",
    "#Below is the training datasets with transformations applied\n",
    "train_dataset_ros = Plyops(train_annotations_ros, root_dir, train_transforms2)\n",
    "val_dataset_ros = Plyops(val_annotations_ros, root_dir, train_transforms2)\n",
    "\n",
    "batch_size = 32\n",
    "\n",
    "train_dataloaders_ros = {'train': DataLoader(train_dataset_ros, batch_size=batch_size), \n",
    "                                                    'val': DataLoader(val_dataset_ros, batch_size=batch_size)}"
   ]
  },
  {
   "cell_type": "code",
   "execution_count": 104,
   "metadata": {},
   "outputs": [
    {
     "name": "stdout",
     "output_type": "stream",
     "text": [
      "Epoch: 0\n",
      "Precision: 0.5984555984555985 F1: 0.545774647887324\n",
      "Recall: 0.5016181229773463 Specificity: 0.6634304207119741\n",
      "Loss: 0.6774927943944931\n",
      "Epoch: 1\n",
      "Precision: 0.6431372549019608 F1: 0.5815602836879433\n",
      "Recall: 0.5307443365695793 Specificity: 0.7055016181229773\n",
      "Loss: 0.6525822311639786\n"
     ]
    },
    {
     "data": {
      "image/png": "[encoded data removed]",
      "text/plain": [
       "<Figure size 640x480 with 1 Axes>"
      ]
     },
     "metadata": {},
     "output_type": "display_data"
    }
   ],
   "source": [
    "lr = 5e-4\n",
    "model = AlexNet(2)\n",
    "\n",
    "loss_function = nn.BCELoss()\n",
    "optimizer = optim.SGD(model.parameters(), lr = lr, weight_decay=5e-4, momentum=0.9)\n",
    "scheduler = optim.lr_scheduler.ReduceLROnPlateau(optimizer, patience=3, factor=0.1)\n",
    "#Small number of epochs since we dont have the computational resources\n",
    "epochs = 25\n",
    "\n",
    "args = training_loop(train_dataloaders_ros, model, epochs, loss_function, optimizer, scheduler)\n",
    "\n",
    "visualize_training(*args)"
   ]
  },
  {
   "cell_type": "code",
   "execution_count": 119,
   "metadata": {},
   "outputs": [
    {
     "name": "stdout",
     "output_type": "stream",
     "text": [
      "[[340 277]\n",
      " [282  78]]\n",
      "╒═════════╤═════════════╤══════════╤════════════╤═══════════╕\n",
      "│ Label   │   Precision │   Recall │   F1-score │   Support │\n",
      "╞═════════╪═════════════╪══════════╪════════════╪═══════════╡\n",
      "│ HP      │    0.546624 │ 0.551053 │   0.54883  │       617 │\n",
      "├─────────┼─────────────┼──────────┼────────────┼───────────┤\n",
      "│ SSA     │    0.219718 │ 0.216667 │   0.218182 │       360 │\n",
      "╘═════════╧═════════════╧══════════╧════════════╧═══════════╛\n"
     ]
    },
    {
     "data": {
      "image/png": "[encoded data removed]",
      "text/plain": [
       "<Figure size 640x480 with 2 Axes>"
      ]
     },
     "metadata": {},
     "output_type": "display_data"
    }
   ],
   "source": [
    "cm, cr = test(test_dataloader, model)\n",
    "visualize_testing(cm)\n",
    "data = {\"Label\": [\"HP\", \"SSA\"], \"Precision\": [cr['0']['precision'], cr['1']['precision']], \"Recall\": [cr['0']['recall'], cr['1']['recall']],\n",
    "        \"F1-score\":[cr['0']['f1-score'], cr['1']['f1-score']], \"Support\": [cr['0']['support'], cr['1']['support']]}\n",
    "print(tabulate(data, headers=\"keys\", tablefmt=\"fancy_grid\"))"
   ]
  },
  {
   "cell_type": "markdown",
   "metadata": {},
   "source": [
    "**Random Undersampling**"
   ]
  },
  {
   "cell_type": "code",
   "execution_count": 135,
   "metadata": {},
   "outputs": [
    {
     "name": "stdout",
     "output_type": "stream",
     "text": [
      "1260 1260\n",
      "2472 1008\n"
     ]
    }
   ],
   "source": [
    "from imblearn.under_sampling import RandomUnderSampler\n",
    "#Now lets try random undersampling \n",
    "rus = RandomUnderSampler(random_state=0)\n",
    "t_annotations_data, t_annotations_target = rus.fit_resample(t_annotations.drop([\"HP\"], axis=1), t_annotations['HP'])\n",
    "print(len(t_annotations_data[\"SSA\"] == True), len(t_annotations_data[\"SSA\"] == False))\n",
    "t_annotations_data[\"HP\"] = t_annotations_target\n",
    "train_annotations_rus, val_annotations_rus = train_test_split(t_annotations_data, train_size=0.8, stratify=t_annotations_data[\"HP\"])\n",
    "\n",
    "#Below is the training datasets\n",
    "train_dataset_rus = Plyops(train_annotations_rus, root_dir, transform)\n",
    "val_dataset_rus = Plyops(val_annotations_rus, root_dir, transform)\n",
    "\n",
    "batch_size = 32\n",
    "\n",
    "train_dataloaders_rus = {'train': DataLoader(train_dataset_rus, batch_size=batch_size), \n",
    "                                                    'val': DataLoader(val_dataset_rus, batch_size=batch_size)}\n",
    "print(len(train_dataset_ros), len(train_dataset_rus))"
   ]
  },
  {
   "cell_type": "code",
   "execution_count": null,
   "metadata": {},
   "outputs": [],
   "source": [
    "lr = 5e-4\n",
    "model = AlexNet(2)\n",
    "\n",
    "loss_function = nn.BCELoss()\n",
    "optimizer = optim.SGD(model.parameters(), lr = lr, weight_decay=5e-4, momentum=0.9)\n",
    "scheduler = optim.lr_scheduler.ReduceLROnPlateau(optimizer, patience=3, factor=0.1)\n",
    "#Small number of epochs since we dont have the computational resources\n",
    "epochs = 25\n",
    "\n",
    "args = training_loop(train_dataloaders_ros, model, epochs, loss_function, optimizer, scheduler)\n",
    "\n",
    "visualize_training(*args)"
   ]
  },
  {
   "cell_type": "code",
   "execution_count": null,
   "metadata": {},
   "outputs": [],
   "source": [
    "cm, cr = test(test_dataloader, model)\n",
    "visualize_testing(cm)\n",
    "data = {\"Label\": [\"HP\", \"SSA\"], \"Precision\": [cr['0']['precision'], cr['1']['precision']], \"Recall\": [cr['0']['recall'], cr['1']['recall']],\n",
    "        \"F1-score\":[cr['0']['f1-score'], cr['1']['f1-score']], \"Support\": [cr['0']['support'], cr['1']['support']]}\n",
    "print(tabulate(data, headers=\"keys\", tablefmt=\"fancy_grid\"))"
   ]
  },
  {
   "cell_type": "markdown",
   "metadata": {},
   "source": [
    "As we can see by the results, it seems like []sampling works better, so lets apply transfer learning to that dataset"
   ]
  },
  {
   "cell_type": "code",
   "execution_count": 145,
   "metadata": {},
   "outputs": [
    {
     "name": "stderr",
     "output_type": "stream",
     "text": [
      "Using cache found in /Users/madhavgopakumar/.cache/torch/hub/pytorch_vision_v0.10.0\n"
     ]
    },
    {
     "name": "stdout",
     "output_type": "stream",
     "text": [
      "Sequential(\n",
      "  (0): Dropout(p=0.5, inplace=False)\n",
      "  (1): Linear(in_features=9216, out_features=4096, bias=True)\n",
      "  (2): ReLU(inplace=True)\n",
      "  (3): Dropout(p=0.5, inplace=False)\n",
      "  (4): Linear(in_features=4096, out_features=4096, bias=True)\n",
      "  (5): ReLU(inplace=True)\n",
      "  (6): Linear(in_features=4096, out_features=1000, bias=True)\n",
      "  (7): Linear(in_features=1000, out_features=2, bias=True)\n",
      "  (8): Softmax(dim=1)\n",
      ")\n",
      "Epoch: 0\n",
      "Precision: 0.7654723127035831 F1: 0.762987012987013\n",
      "Recall: 0.7605177993527508 Specificity: 0.7669902912621359\n",
      "Loss: 0.47907349169254304\n",
      "Epoch: 1\n",
      "Precision: 0.8847926267281107 F1: 0.7300380228136882\n",
      "Recall: 0.6213592233009708 Specificity: 0.919093851132686\n",
      "Loss: 0.47982439696788787\n",
      "Epoch: 2\n",
      "Precision: 0.9238578680203046 F1: 0.7193675889328064\n",
      "Recall: 0.5889967637540453 Specificity: 0.9514563106796117\n",
      "Loss: 0.49118761718273163\n"
     ]
    },
    {
     "data": {
      "image/png": "[encoded data removed]",
      "text/plain": [
       "<Figure size 640x480 with 1 Axes>"
      ]
     },
     "metadata": {},
     "output_type": "display_data"
    }
   ],
   "source": [
    "model = torch.hub.load('pytorch/vision:v0.10.0', 'alexnet', weights='AlexNet_Weights.DEFAULT')\n",
    "#Changing the fully connected layer to correct output\n",
    "out_features = model.classifier[-1].out_features\n",
    "model.classifier.append(nn.Linear(out_features, 2))\n",
    "model.classifier.append(nn.Softmax(dim=1))\n",
    "\n",
    "lr = 5e-4\n",
    "loss_function = nn.BCELoss()\n",
    "optimizer = optim.SGD(model.parameters(), lr = lr, weight_decay=5e-4, momentum=0.9)\n",
    "scheduler = optim.lr_scheduler.ReduceLROnPlateau(optimizer, patience=3, factor=0.1)\n",
    "#Small number of epochs since we dont have the computational resources\n",
    "epochs = 25\n",
    "\n",
    "args = training_loop(train_dataloaders_ros, model, epochs, loss_function, optimizer, scheduler)\n",
    "\n",
    "visualize_training(*args)"
   ]
  },
  {
   "cell_type": "code",
   "execution_count": 146,
   "metadata": {},
   "outputs": [
    {
     "name": "stdout",
     "output_type": "stream",
     "text": [
      "[[322 295]\n",
      " [335  25]]\n",
      "╒═════════╤═════════════╤═══════════╤════════════╤═══════════╕\n",
      "│ Label   │   Precision │    Recall │   F1-score │   Support │\n",
      "╞═════════╪═════════════╪═══════════╪════════════╪═══════════╡\n",
      "│ HP      │    0.490107 │ 0.52188   │  0.505495  │       617 │\n",
      "├─────────┼─────────────┼───────────┼────────────┼───────────┤\n",
      "│ SSA     │    0.078125 │ 0.0694444 │  0.0735294 │       360 │\n",
      "╘═════════╧═════════════╧═══════════╧════════════╧═══════════╛\n"
     ]
    },
    {
     "data": {
      "image/png": "[encoded data removed]",
      "text/plain": [
       "<Figure size 640x480 with 2 Axes>"
      ]
     },
     "metadata": {},
     "output_type": "display_data"
    }
   ],
   "source": [
    "cm, cr = test(test_dataloader, model)\n",
    "visualize_testing(cm)\n",
    "data = {\"Label\": [\"HP\", \"SSA\"], \"Precision\": [cr['0']['precision'], cr['1']['precision']], \"Recall\": [cr['0']['recall'], cr['1']['recall']],\n",
    "        \"F1-score\":[cr['0']['f1-score'], cr['1']['f1-score']], \"Support\": [cr['0']['support'], cr['1']['support']]}\n",
    "print(tabulate(data, headers=\"keys\", tablefmt=\"fancy_grid\"))"
   ]
  }
 ],
 "metadata": {
  "kernelspec": {
   "display_name": "cv-project-env",
   "language": "python",
   "name": "python3"
  },
  "language_info": {
   "codemirror_mode": {
    "name": "ipython",
    "version": 3
   },
   "file_extension": ".py",
   "mimetype": "text/x-python",
   "name": "python",
   "nbconvert_exporter": "python",
   "pygments_lexer": "ipython3",
   "version": "3.10.7"
  },
  "orig_nbformat": 4
 },
 "nbformat": 4,
 "nbformat_minor": 2
}
